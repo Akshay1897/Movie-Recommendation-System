{
  "nbformat": 4,
  "nbformat_minor": 0,
  "metadata": {
    "colab": {
      "name": "Imdb_Movie_Recommendation_System.ipynb",
      "provenance": [],
      "authorship_tag": "ABX9TyNMzFvDkI6dmRgSzkZP8A4c",
      "include_colab_link": true
    },
    "kernelspec": {
      "name": "python3",
      "display_name": "Python 3"
    }
  },
  "cells": [
    {
      "cell_type": "markdown",
      "metadata": {
        "id": "view-in-github",
        "colab_type": "text"
      },
      "source": [
        "<a href=\"https://colab.research.google.com/github/Akshay1897/Movie-Recommendation-System/blob/master/Imdb_Movie_Recommendation_System.ipynb\" target=\"_parent\"><img src=\"https://colab.research.google.com/assets/colab-badge.svg\" alt=\"Open In Colab\"/></a>"
      ]
    },
    {
      "cell_type": "code",
      "metadata": {
        "id": "dnASBJD627C9",
        "colab_type": "code",
        "colab": {}
      },
      "source": [
        "import pandas as pd\n",
        "import numpy as np\n",
        "from sklearn.feature_extraction.text import CountVectorizer\n",
        "from sklearn.metrics.pairwise import cosine_similarity"
      ],
      "execution_count": 0,
      "outputs": []
    },
    {
      "cell_type": "code",
      "metadata": {
        "id": "4jZKPflH3eMh",
        "colab_type": "code",
        "colab": {}
      },
      "source": [
        "from google.colab import files\n",
        "df = pd.read_csv('movie_dataset.csv')"
      ],
      "execution_count": 0,
      "outputs": []
    },
    {
      "cell_type": "code",
      "metadata": {
        "id": "h0OOsu4P3eVb",
        "colab_type": "code",
        "colab": {
          "base_uri": "https://localhost:8080/",
          "height": 717
        },
        "outputId": "271fa7f5-ec29-4c1e-c077-2315383bf27a"
      },
      "source": [
        "df.head()"
      ],
      "execution_count": 6,
      "outputs": [
        {
          "output_type": "execute_result",
          "data": {
            "text/html": [
              "<div>\n",
              "<style scoped>\n",
              "    .dataframe tbody tr th:only-of-type {\n",
              "        vertical-align: middle;\n",
              "    }\n",
              "\n",
              "    .dataframe tbody tr th {\n",
              "        vertical-align: top;\n",
              "    }\n",
              "\n",
              "    .dataframe thead th {\n",
              "        text-align: right;\n",
              "    }\n",
              "</style>\n",
              "<table border=\"1\" class=\"dataframe\">\n",
              "  <thead>\n",
              "    <tr style=\"text-align: right;\">\n",
              "      <th></th>\n",
              "      <th>index</th>\n",
              "      <th>budget</th>\n",
              "      <th>genres</th>\n",
              "      <th>homepage</th>\n",
              "      <th>id</th>\n",
              "      <th>keywords</th>\n",
              "      <th>original_language</th>\n",
              "      <th>original_title</th>\n",
              "      <th>overview</th>\n",
              "      <th>popularity</th>\n",
              "      <th>production_companies</th>\n",
              "      <th>production_countries</th>\n",
              "      <th>release_date</th>\n",
              "      <th>revenue</th>\n",
              "      <th>runtime</th>\n",
              "      <th>spoken_languages</th>\n",
              "      <th>status</th>\n",
              "      <th>tagline</th>\n",
              "      <th>title</th>\n",
              "      <th>vote_average</th>\n",
              "      <th>vote_count</th>\n",
              "      <th>cast</th>\n",
              "      <th>crew</th>\n",
              "      <th>director</th>\n",
              "    </tr>\n",
              "  </thead>\n",
              "  <tbody>\n",
              "    <tr>\n",
              "      <th>0</th>\n",
              "      <td>0</td>\n",
              "      <td>237000000</td>\n",
              "      <td>Action Adventure Fantasy Science Fiction</td>\n",
              "      <td>http://www.avatarmovie.com/</td>\n",
              "      <td>19995</td>\n",
              "      <td>culture clash future space war space colony so...</td>\n",
              "      <td>en</td>\n",
              "      <td>Avatar</td>\n",
              "      <td>In the 22nd century, a paraplegic Marine is di...</td>\n",
              "      <td>150.437577</td>\n",
              "      <td>[{\"name\": \"Ingenious Film Partners\", \"id\": 289...</td>\n",
              "      <td>[{\"iso_3166_1\": \"US\", \"name\": \"United States o...</td>\n",
              "      <td>2009-12-10</td>\n",
              "      <td>2787965087</td>\n",
              "      <td>162.0</td>\n",
              "      <td>[{\"iso_639_1\": \"en\", \"name\": \"English\"}, {\"iso...</td>\n",
              "      <td>Released</td>\n",
              "      <td>Enter the World of Pandora.</td>\n",
              "      <td>Avatar</td>\n",
              "      <td>7.2</td>\n",
              "      <td>11800</td>\n",
              "      <td>Sam Worthington Zoe Saldana Sigourney Weaver S...</td>\n",
              "      <td>[{'name': 'Stephen E. Rivkin', 'gender': 0, 'd...</td>\n",
              "      <td>James Cameron</td>\n",
              "    </tr>\n",
              "    <tr>\n",
              "      <th>1</th>\n",
              "      <td>1</td>\n",
              "      <td>300000000</td>\n",
              "      <td>Adventure Fantasy Action</td>\n",
              "      <td>http://disney.go.com/disneypictures/pirates/</td>\n",
              "      <td>285</td>\n",
              "      <td>ocean drug abuse exotic island east india trad...</td>\n",
              "      <td>en</td>\n",
              "      <td>Pirates of the Caribbean: At World's End</td>\n",
              "      <td>Captain Barbossa, long believed to be dead, ha...</td>\n",
              "      <td>139.082615</td>\n",
              "      <td>[{\"name\": \"Walt Disney Pictures\", \"id\": 2}, {\"...</td>\n",
              "      <td>[{\"iso_3166_1\": \"US\", \"name\": \"United States o...</td>\n",
              "      <td>2007-05-19</td>\n",
              "      <td>961000000</td>\n",
              "      <td>169.0</td>\n",
              "      <td>[{\"iso_639_1\": \"en\", \"name\": \"English\"}]</td>\n",
              "      <td>Released</td>\n",
              "      <td>At the end of the world, the adventure begins.</td>\n",
              "      <td>Pirates of the Caribbean: At World's End</td>\n",
              "      <td>6.9</td>\n",
              "      <td>4500</td>\n",
              "      <td>Johnny Depp Orlando Bloom Keira Knightley Stel...</td>\n",
              "      <td>[{'name': 'Dariusz Wolski', 'gender': 2, 'depa...</td>\n",
              "      <td>Gore Verbinski</td>\n",
              "    </tr>\n",
              "    <tr>\n",
              "      <th>2</th>\n",
              "      <td>2</td>\n",
              "      <td>245000000</td>\n",
              "      <td>Action Adventure Crime</td>\n",
              "      <td>http://www.sonypictures.com/movies/spectre/</td>\n",
              "      <td>206647</td>\n",
              "      <td>spy based on novel secret agent sequel mi6</td>\n",
              "      <td>en</td>\n",
              "      <td>Spectre</td>\n",
              "      <td>A cryptic message from Bond’s past sends him o...</td>\n",
              "      <td>107.376788</td>\n",
              "      <td>[{\"name\": \"Columbia Pictures\", \"id\": 5}, {\"nam...</td>\n",
              "      <td>[{\"iso_3166_1\": \"GB\", \"name\": \"United Kingdom\"...</td>\n",
              "      <td>2015-10-26</td>\n",
              "      <td>880674609</td>\n",
              "      <td>148.0</td>\n",
              "      <td>[{\"iso_639_1\": \"fr\", \"name\": \"Fran\\u00e7ais\"},...</td>\n",
              "      <td>Released</td>\n",
              "      <td>A Plan No One Escapes</td>\n",
              "      <td>Spectre</td>\n",
              "      <td>6.3</td>\n",
              "      <td>4466</td>\n",
              "      <td>Daniel Craig Christoph Waltz L\\u00e9a Seydoux ...</td>\n",
              "      <td>[{'name': 'Thomas Newman', 'gender': 2, 'depar...</td>\n",
              "      <td>Sam Mendes</td>\n",
              "    </tr>\n",
              "    <tr>\n",
              "      <th>3</th>\n",
              "      <td>3</td>\n",
              "      <td>250000000</td>\n",
              "      <td>Action Crime Drama Thriller</td>\n",
              "      <td>http://www.thedarkknightrises.com/</td>\n",
              "      <td>49026</td>\n",
              "      <td>dc comics crime fighter terrorist secret ident...</td>\n",
              "      <td>en</td>\n",
              "      <td>The Dark Knight Rises</td>\n",
              "      <td>Following the death of District Attorney Harve...</td>\n",
              "      <td>112.312950</td>\n",
              "      <td>[{\"name\": \"Legendary Pictures\", \"id\": 923}, {\"...</td>\n",
              "      <td>[{\"iso_3166_1\": \"US\", \"name\": \"United States o...</td>\n",
              "      <td>2012-07-16</td>\n",
              "      <td>1084939099</td>\n",
              "      <td>165.0</td>\n",
              "      <td>[{\"iso_639_1\": \"en\", \"name\": \"English\"}]</td>\n",
              "      <td>Released</td>\n",
              "      <td>The Legend Ends</td>\n",
              "      <td>The Dark Knight Rises</td>\n",
              "      <td>7.6</td>\n",
              "      <td>9106</td>\n",
              "      <td>Christian Bale Michael Caine Gary Oldman Anne ...</td>\n",
              "      <td>[{'name': 'Hans Zimmer', 'gender': 2, 'departm...</td>\n",
              "      <td>Christopher Nolan</td>\n",
              "    </tr>\n",
              "    <tr>\n",
              "      <th>4</th>\n",
              "      <td>4</td>\n",
              "      <td>260000000</td>\n",
              "      <td>Action Adventure Science Fiction</td>\n",
              "      <td>http://movies.disney.com/john-carter</td>\n",
              "      <td>49529</td>\n",
              "      <td>based on novel mars medallion space travel pri...</td>\n",
              "      <td>en</td>\n",
              "      <td>John Carter</td>\n",
              "      <td>John Carter is a war-weary, former military ca...</td>\n",
              "      <td>43.926995</td>\n",
              "      <td>[{\"name\": \"Walt Disney Pictures\", \"id\": 2}]</td>\n",
              "      <td>[{\"iso_3166_1\": \"US\", \"name\": \"United States o...</td>\n",
              "      <td>2012-03-07</td>\n",
              "      <td>284139100</td>\n",
              "      <td>132.0</td>\n",
              "      <td>[{\"iso_639_1\": \"en\", \"name\": \"English\"}]</td>\n",
              "      <td>Released</td>\n",
              "      <td>Lost in our world, found in another.</td>\n",
              "      <td>John Carter</td>\n",
              "      <td>6.1</td>\n",
              "      <td>2124</td>\n",
              "      <td>Taylor Kitsch Lynn Collins Samantha Morton Wil...</td>\n",
              "      <td>[{'name': 'Andrew Stanton', 'gender': 2, 'depa...</td>\n",
              "      <td>Andrew Stanton</td>\n",
              "    </tr>\n",
              "  </tbody>\n",
              "</table>\n",
              "</div>"
            ],
            "text/plain": [
              "   index  ...           director\n",
              "0      0  ...      James Cameron\n",
              "1      1  ...     Gore Verbinski\n",
              "2      2  ...         Sam Mendes\n",
              "3      3  ...  Christopher Nolan\n",
              "4      4  ...     Andrew Stanton\n",
              "\n",
              "[5 rows x 24 columns]"
            ]
          },
          "metadata": {
            "tags": []
          },
          "execution_count": 6
        }
      ]
    },
    {
      "cell_type": "code",
      "metadata": {
        "id": "ymaCdEm33eZu",
        "colab_type": "code",
        "colab": {
          "base_uri": "https://localhost:8080/",
          "height": 34
        },
        "outputId": "e482bfab-ef2d-4d4f-c17c-7873ac898edd"
      },
      "source": [
        "df.shape"
      ],
      "execution_count": 8,
      "outputs": [
        {
          "output_type": "execute_result",
          "data": {
            "text/plain": [
              "(4803, 24)"
            ]
          },
          "metadata": {
            "tags": []
          },
          "execution_count": 8
        }
      ]
    },
    {
      "cell_type": "code",
      "metadata": {
        "id": "EvyQuV6h3egP",
        "colab_type": "code",
        "colab": {
          "base_uri": "https://localhost:8080/",
          "height": 289
        },
        "outputId": "6266917c-9e06-4be8-d915-6b525367d067"
      },
      "source": [
        "features = ['keywords', 'cast', 'genres', 'director']\n",
        "df[features].head()"
      ],
      "execution_count": 9,
      "outputs": [
        {
          "output_type": "execute_result",
          "data": {
            "text/html": [
              "<div>\n",
              "<style scoped>\n",
              "    .dataframe tbody tr th:only-of-type {\n",
              "        vertical-align: middle;\n",
              "    }\n",
              "\n",
              "    .dataframe tbody tr th {\n",
              "        vertical-align: top;\n",
              "    }\n",
              "\n",
              "    .dataframe thead th {\n",
              "        text-align: right;\n",
              "    }\n",
              "</style>\n",
              "<table border=\"1\" class=\"dataframe\">\n",
              "  <thead>\n",
              "    <tr style=\"text-align: right;\">\n",
              "      <th></th>\n",
              "      <th>keywords</th>\n",
              "      <th>cast</th>\n",
              "      <th>genres</th>\n",
              "      <th>director</th>\n",
              "    </tr>\n",
              "  </thead>\n",
              "  <tbody>\n",
              "    <tr>\n",
              "      <th>0</th>\n",
              "      <td>culture clash future space war space colony so...</td>\n",
              "      <td>Sam Worthington Zoe Saldana Sigourney Weaver S...</td>\n",
              "      <td>Action Adventure Fantasy Science Fiction</td>\n",
              "      <td>James Cameron</td>\n",
              "    </tr>\n",
              "    <tr>\n",
              "      <th>1</th>\n",
              "      <td>ocean drug abuse exotic island east india trad...</td>\n",
              "      <td>Johnny Depp Orlando Bloom Keira Knightley Stel...</td>\n",
              "      <td>Adventure Fantasy Action</td>\n",
              "      <td>Gore Verbinski</td>\n",
              "    </tr>\n",
              "    <tr>\n",
              "      <th>2</th>\n",
              "      <td>spy based on novel secret agent sequel mi6</td>\n",
              "      <td>Daniel Craig Christoph Waltz L\\u00e9a Seydoux ...</td>\n",
              "      <td>Action Adventure Crime</td>\n",
              "      <td>Sam Mendes</td>\n",
              "    </tr>\n",
              "    <tr>\n",
              "      <th>3</th>\n",
              "      <td>dc comics crime fighter terrorist secret ident...</td>\n",
              "      <td>Christian Bale Michael Caine Gary Oldman Anne ...</td>\n",
              "      <td>Action Crime Drama Thriller</td>\n",
              "      <td>Christopher Nolan</td>\n",
              "    </tr>\n",
              "    <tr>\n",
              "      <th>4</th>\n",
              "      <td>based on novel mars medallion space travel pri...</td>\n",
              "      <td>Taylor Kitsch Lynn Collins Samantha Morton Wil...</td>\n",
              "      <td>Action Adventure Science Fiction</td>\n",
              "      <td>Andrew Stanton</td>\n",
              "    </tr>\n",
              "  </tbody>\n",
              "</table>\n",
              "</div>"
            ],
            "text/plain": [
              "                                            keywords  ...           director\n",
              "0  culture clash future space war space colony so...  ...      James Cameron\n",
              "1  ocean drug abuse exotic island east india trad...  ...     Gore Verbinski\n",
              "2         spy based on novel secret agent sequel mi6  ...         Sam Mendes\n",
              "3  dc comics crime fighter terrorist secret ident...  ...  Christopher Nolan\n",
              "4  based on novel mars medallion space travel pri...  ...     Andrew Stanton\n",
              "\n",
              "[5 rows x 4 columns]"
            ]
          },
          "metadata": {
            "tags": []
          },
          "execution_count": 9
        }
      ]
    },
    {
      "cell_type": "code",
      "metadata": {
        "id": "lg5rEIRJ3ecw",
        "colab_type": "code",
        "colab": {}
      },
      "source": [
        "for feature in features:\n",
        "  df[feature] = df[feature].fillna('')"
      ],
      "execution_count": 0,
      "outputs": []
    },
    {
      "cell_type": "code",
      "metadata": {
        "id": "Los1LXgm4kff",
        "colab_type": "code",
        "colab": {}
      },
      "source": [
        "def combine_features(row):\n",
        "  return row['keywords'] + \" \" + row['cast'] + \" \" + row[\"genres\"] + \" \" + row[\"director\"]"
      ],
      "execution_count": 0,
      "outputs": []
    },
    {
      "cell_type": "code",
      "metadata": {
        "id": "w5k8Q4Y54kki",
        "colab_type": "code",
        "colab": {}
      },
      "source": [
        "df[\"combined_features\"] = df.apply(combine_features, axis = 1)\n"
      ],
      "execution_count": 0,
      "outputs": []
    },
    {
      "cell_type": "code",
      "metadata": {
        "id": "_cjrwNBf4koN",
        "colab_type": "code",
        "colab": {
          "base_uri": "https://localhost:8080/",
          "height": 717
        },
        "outputId": "f1b01710-8762-40c5-c9a5-32941620b470"
      },
      "source": [
        "df.head()\n"
      ],
      "execution_count": 13,
      "outputs": [
        {
          "output_type": "execute_result",
          "data": {
            "text/html": [
              "<div>\n",
              "<style scoped>\n",
              "    .dataframe tbody tr th:only-of-type {\n",
              "        vertical-align: middle;\n",
              "    }\n",
              "\n",
              "    .dataframe tbody tr th {\n",
              "        vertical-align: top;\n",
              "    }\n",
              "\n",
              "    .dataframe thead th {\n",
              "        text-align: right;\n",
              "    }\n",
              "</style>\n",
              "<table border=\"1\" class=\"dataframe\">\n",
              "  <thead>\n",
              "    <tr style=\"text-align: right;\">\n",
              "      <th></th>\n",
              "      <th>index</th>\n",
              "      <th>budget</th>\n",
              "      <th>genres</th>\n",
              "      <th>homepage</th>\n",
              "      <th>id</th>\n",
              "      <th>keywords</th>\n",
              "      <th>original_language</th>\n",
              "      <th>original_title</th>\n",
              "      <th>overview</th>\n",
              "      <th>popularity</th>\n",
              "      <th>production_companies</th>\n",
              "      <th>production_countries</th>\n",
              "      <th>release_date</th>\n",
              "      <th>revenue</th>\n",
              "      <th>runtime</th>\n",
              "      <th>spoken_languages</th>\n",
              "      <th>status</th>\n",
              "      <th>tagline</th>\n",
              "      <th>title</th>\n",
              "      <th>vote_average</th>\n",
              "      <th>vote_count</th>\n",
              "      <th>cast</th>\n",
              "      <th>crew</th>\n",
              "      <th>director</th>\n",
              "      <th>combined_features</th>\n",
              "    </tr>\n",
              "  </thead>\n",
              "  <tbody>\n",
              "    <tr>\n",
              "      <th>0</th>\n",
              "      <td>0</td>\n",
              "      <td>237000000</td>\n",
              "      <td>Action Adventure Fantasy Science Fiction</td>\n",
              "      <td>http://www.avatarmovie.com/</td>\n",
              "      <td>19995</td>\n",
              "      <td>culture clash future space war space colony so...</td>\n",
              "      <td>en</td>\n",
              "      <td>Avatar</td>\n",
              "      <td>In the 22nd century, a paraplegic Marine is di...</td>\n",
              "      <td>150.437577</td>\n",
              "      <td>[{\"name\": \"Ingenious Film Partners\", \"id\": 289...</td>\n",
              "      <td>[{\"iso_3166_1\": \"US\", \"name\": \"United States o...</td>\n",
              "      <td>2009-12-10</td>\n",
              "      <td>2787965087</td>\n",
              "      <td>162.0</td>\n",
              "      <td>[{\"iso_639_1\": \"en\", \"name\": \"English\"}, {\"iso...</td>\n",
              "      <td>Released</td>\n",
              "      <td>Enter the World of Pandora.</td>\n",
              "      <td>Avatar</td>\n",
              "      <td>7.2</td>\n",
              "      <td>11800</td>\n",
              "      <td>Sam Worthington Zoe Saldana Sigourney Weaver S...</td>\n",
              "      <td>[{'name': 'Stephen E. Rivkin', 'gender': 0, 'd...</td>\n",
              "      <td>James Cameron</td>\n",
              "      <td>culture clash future space war space colony so...</td>\n",
              "    </tr>\n",
              "    <tr>\n",
              "      <th>1</th>\n",
              "      <td>1</td>\n",
              "      <td>300000000</td>\n",
              "      <td>Adventure Fantasy Action</td>\n",
              "      <td>http://disney.go.com/disneypictures/pirates/</td>\n",
              "      <td>285</td>\n",
              "      <td>ocean drug abuse exotic island east india trad...</td>\n",
              "      <td>en</td>\n",
              "      <td>Pirates of the Caribbean: At World's End</td>\n",
              "      <td>Captain Barbossa, long believed to be dead, ha...</td>\n",
              "      <td>139.082615</td>\n",
              "      <td>[{\"name\": \"Walt Disney Pictures\", \"id\": 2}, {\"...</td>\n",
              "      <td>[{\"iso_3166_1\": \"US\", \"name\": \"United States o...</td>\n",
              "      <td>2007-05-19</td>\n",
              "      <td>961000000</td>\n",
              "      <td>169.0</td>\n",
              "      <td>[{\"iso_639_1\": \"en\", \"name\": \"English\"}]</td>\n",
              "      <td>Released</td>\n",
              "      <td>At the end of the world, the adventure begins.</td>\n",
              "      <td>Pirates of the Caribbean: At World's End</td>\n",
              "      <td>6.9</td>\n",
              "      <td>4500</td>\n",
              "      <td>Johnny Depp Orlando Bloom Keira Knightley Stel...</td>\n",
              "      <td>[{'name': 'Dariusz Wolski', 'gender': 2, 'depa...</td>\n",
              "      <td>Gore Verbinski</td>\n",
              "      <td>ocean drug abuse exotic island east india trad...</td>\n",
              "    </tr>\n",
              "    <tr>\n",
              "      <th>2</th>\n",
              "      <td>2</td>\n",
              "      <td>245000000</td>\n",
              "      <td>Action Adventure Crime</td>\n",
              "      <td>http://www.sonypictures.com/movies/spectre/</td>\n",
              "      <td>206647</td>\n",
              "      <td>spy based on novel secret agent sequel mi6</td>\n",
              "      <td>en</td>\n",
              "      <td>Spectre</td>\n",
              "      <td>A cryptic message from Bond’s past sends him o...</td>\n",
              "      <td>107.376788</td>\n",
              "      <td>[{\"name\": \"Columbia Pictures\", \"id\": 5}, {\"nam...</td>\n",
              "      <td>[{\"iso_3166_1\": \"GB\", \"name\": \"United Kingdom\"...</td>\n",
              "      <td>2015-10-26</td>\n",
              "      <td>880674609</td>\n",
              "      <td>148.0</td>\n",
              "      <td>[{\"iso_639_1\": \"fr\", \"name\": \"Fran\\u00e7ais\"},...</td>\n",
              "      <td>Released</td>\n",
              "      <td>A Plan No One Escapes</td>\n",
              "      <td>Spectre</td>\n",
              "      <td>6.3</td>\n",
              "      <td>4466</td>\n",
              "      <td>Daniel Craig Christoph Waltz L\\u00e9a Seydoux ...</td>\n",
              "      <td>[{'name': 'Thomas Newman', 'gender': 2, 'depar...</td>\n",
              "      <td>Sam Mendes</td>\n",
              "      <td>spy based on novel secret agent sequel mi6 Dan...</td>\n",
              "    </tr>\n",
              "    <tr>\n",
              "      <th>3</th>\n",
              "      <td>3</td>\n",
              "      <td>250000000</td>\n",
              "      <td>Action Crime Drama Thriller</td>\n",
              "      <td>http://www.thedarkknightrises.com/</td>\n",
              "      <td>49026</td>\n",
              "      <td>dc comics crime fighter terrorist secret ident...</td>\n",
              "      <td>en</td>\n",
              "      <td>The Dark Knight Rises</td>\n",
              "      <td>Following the death of District Attorney Harve...</td>\n",
              "      <td>112.312950</td>\n",
              "      <td>[{\"name\": \"Legendary Pictures\", \"id\": 923}, {\"...</td>\n",
              "      <td>[{\"iso_3166_1\": \"US\", \"name\": \"United States o...</td>\n",
              "      <td>2012-07-16</td>\n",
              "      <td>1084939099</td>\n",
              "      <td>165.0</td>\n",
              "      <td>[{\"iso_639_1\": \"en\", \"name\": \"English\"}]</td>\n",
              "      <td>Released</td>\n",
              "      <td>The Legend Ends</td>\n",
              "      <td>The Dark Knight Rises</td>\n",
              "      <td>7.6</td>\n",
              "      <td>9106</td>\n",
              "      <td>Christian Bale Michael Caine Gary Oldman Anne ...</td>\n",
              "      <td>[{'name': 'Hans Zimmer', 'gender': 2, 'departm...</td>\n",
              "      <td>Christopher Nolan</td>\n",
              "      <td>dc comics crime fighter terrorist secret ident...</td>\n",
              "    </tr>\n",
              "    <tr>\n",
              "      <th>4</th>\n",
              "      <td>4</td>\n",
              "      <td>260000000</td>\n",
              "      <td>Action Adventure Science Fiction</td>\n",
              "      <td>http://movies.disney.com/john-carter</td>\n",
              "      <td>49529</td>\n",
              "      <td>based on novel mars medallion space travel pri...</td>\n",
              "      <td>en</td>\n",
              "      <td>John Carter</td>\n",
              "      <td>John Carter is a war-weary, former military ca...</td>\n",
              "      <td>43.926995</td>\n",
              "      <td>[{\"name\": \"Walt Disney Pictures\", \"id\": 2}]</td>\n",
              "      <td>[{\"iso_3166_1\": \"US\", \"name\": \"United States o...</td>\n",
              "      <td>2012-03-07</td>\n",
              "      <td>284139100</td>\n",
              "      <td>132.0</td>\n",
              "      <td>[{\"iso_639_1\": \"en\", \"name\": \"English\"}]</td>\n",
              "      <td>Released</td>\n",
              "      <td>Lost in our world, found in another.</td>\n",
              "      <td>John Carter</td>\n",
              "      <td>6.1</td>\n",
              "      <td>2124</td>\n",
              "      <td>Taylor Kitsch Lynn Collins Samantha Morton Wil...</td>\n",
              "      <td>[{'name': 'Andrew Stanton', 'gender': 2, 'depa...</td>\n",
              "      <td>Andrew Stanton</td>\n",
              "      <td>based on novel mars medallion space travel pri...</td>\n",
              "    </tr>\n",
              "  </tbody>\n",
              "</table>\n",
              "</div>"
            ],
            "text/plain": [
              "   index  ...                                  combined_features\n",
              "0      0  ...  culture clash future space war space colony so...\n",
              "1      1  ...  ocean drug abuse exotic island east india trad...\n",
              "2      2  ...  spy based on novel secret agent sequel mi6 Dan...\n",
              "3      3  ...  dc comics crime fighter terrorist secret ident...\n",
              "4      4  ...  based on novel mars medallion space travel pri...\n",
              "\n",
              "[5 rows x 25 columns]"
            ]
          },
          "metadata": {
            "tags": []
          },
          "execution_count": 13
        }
      ]
    },
    {
      "cell_type": "code",
      "metadata": {
        "id": "38z_65bm5OeV",
        "colab_type": "code",
        "colab": {}
      },
      "source": [
        "count_matrix = CountVectorizer().fit_transform(df[\"combined_features\"])"
      ],
      "execution_count": 0,
      "outputs": []
    },
    {
      "cell_type": "code",
      "metadata": {
        "id": "r2CzpezV5OsO",
        "colab_type": "code",
        "colab": {
          "base_uri": "https://localhost:8080/",
          "height": 136
        },
        "outputId": "a484e07f-4b3c-46bc-94bb-5ebf31c0f8e5"
      },
      "source": [
        "cosine_sim = cosine_similarity(count_matrix)\n",
        "print(cosine_sim)"
      ],
      "execution_count": 16,
      "outputs": [
        {
          "output_type": "stream",
          "text": [
            "[[1.         0.10540926 0.12038585 ... 0.         0.         0.        ]\n",
            " [0.10540926 1.         0.0761387  ... 0.03651484 0.         0.        ]\n",
            " [0.12038585 0.0761387  1.         ... 0.         0.11145564 0.        ]\n",
            " ...\n",
            " [0.         0.03651484 0.         ... 1.         0.         0.04264014]\n",
            " [0.         0.         0.11145564 ... 0.         1.         0.        ]\n",
            " [0.         0.         0.         ... 0.04264014 0.         1.        ]]\n"
          ],
          "name": "stdout"
        }
      ]
    },
    {
      "cell_type": "code",
      "metadata": {
        "id": "VtZF1gqo5Owe",
        "colab_type": "code",
        "colab": {
          "base_uri": "https://localhost:8080/",
          "height": 34
        },
        "outputId": "dc2e5668-55a4-4fff-abef-85dbd7bb1639"
      },
      "source": [
        "cosine_sim.shape"
      ],
      "execution_count": 17,
      "outputs": [
        {
          "output_type": "execute_result",
          "data": {
            "text/plain": [
              "(4803, 4803)"
            ]
          },
          "metadata": {
            "tags": []
          },
          "execution_count": 17
        }
      ]
    },
    {
      "cell_type": "code",
      "metadata": {
        "id": "J_Udpehh5OzO",
        "colab_type": "code",
        "colab": {}
      },
      "source": [
        "#Helper function to get the title from the index\n",
        "def get_title_from_index(index):\n",
        "  return df[df.index == index][\"title\"].values[0]\n",
        "\n",
        "#Helper function to get the index from the title\n",
        "def get_index_from_title(title):\n",
        "  return df[df.title == title][\"index\"].values[0]"
      ],
      "execution_count": 0,
      "outputs": []
    },
    {
      "cell_type": "code",
      "metadata": {
        "id": "2msZHJTs5ceR",
        "colab_type": "code",
        "colab": {}
      },
      "source": [
        "#Get the title of the movie that the user likes\n",
        "movie_user_likes = \"The Prestige\"\n",
        "\n",
        "#Find that movies index\n",
        "movie_index = get_index_from_title(movie_user_likes)"
      ],
      "execution_count": 0,
      "outputs": []
    },
    {
      "cell_type": "code",
      "metadata": {
        "id": "xnF8Z1KF5chO",
        "colab_type": "code",
        "colab": {}
      },
      "source": [
        "#Access the row, through the movies index, corresponding to this movie (the liked movie) in the similarity matrix, \n",
        "# by doing this we will get the similarity scores of all other movies from the current movie\n",
        "\n",
        "#Enumerate through all the similarity scores of that movie to make a tuple of movie index and similarity scores.\n",
        "#  This will convert a row of similarity scores like this- [5 0.6 0.3 0.9] to this- [(0, 5) (1, 0.6) (2, 0.3) (3, 0.9)] . \n",
        "#  Note this puts each item in the list in this form (movie index, similarity score)\n",
        "similar_movies =  list(enumerate(cosine_sim[movie_index]))\n",
        "\n",
        "\n",
        "\n",
        "#Sort the list of similar movies according to the similarity scores in descending order\n",
        "#Since the most similar movie is itself, we will discard the first element after sorting.\n",
        "sorted_similar_movies = sorted(similar_movies,key=lambda x:x[1],reverse=True)[1:]"
      ],
      "execution_count": 0,
      "outputs": []
    },
    {
      "cell_type": "code",
      "metadata": {
        "id": "BowGeJ2T5clb",
        "colab_type": "code",
        "colab": {
          "base_uri": "https://localhost:8080/",
          "height": 54
        },
        "outputId": "6ddbcbad-7307-45db-a321-d52b248d9351"
      },
      "source": [
        "#Print the sorted similar movies to the movie the user like\n",
        "# The tuples are in the form (movie_index, similarity value)\n",
        "print(sorted_similar_movies)"
      ],
      "execution_count": 27,
      "outputs": [
        {
          "output_type": "stream",
          "text": [
            "[(3, 0.37630890450319093), (65, 0.37630890450319093), (119, 0.3344968040028364), (4589, 0.28603877677367767), (2003, 0.25584085962673253), (4429, 0.2445579940222592), (2118, 0.24174688920761403), (3637, 0.23836564731139806), (1009, 0.23262105259961768), (1775, 0.2279211529192759), (3850, 0.22727272727272724), (2832, 0.22613350843332267), (3085, 0.22227711223719354), (416, 0.2175970699446223), (650, 0.2175970699446223), (3754, 0.2175970699446223), (114, 0.21320071635561044), (622, 0.21320071635561044), (2726, 0.21320071635561044), (3635, 0.21320071635561044), (3978, 0.21320071635561041), (2869, 0.20683507599800763), (95, 0.20515248496555452), (2149, 0.20145574100634503), (620, 0.19564639521780736), (1649, 0.19564639521780736), (2730, 0.19564639521780736), (3009, 0.19564639521780736), (3332, 0.19564639521780736), (4221, 0.19564639521780736), (217, 0.19462473604038072), (407, 0.19145989526687088), (968, 0.19069251784911845), (1033, 0.19069251784911845), (1803, 0.19069251784911845), (2468, 0.19069251784911845), (447, 0.18609684207969415), (517, 0.18609684207969415), (1051, 0.18609684207969415), (1205, 0.18609684207969415), (1314, 0.18609684207969415), (2041, 0.18609684207969415), (2473, 0.18609684207969415), (2957, 0.18609684207969415), (3423, 0.18609684207969415), (3573, 0.18609684207969415), (3838, 0.18609684207969415), (455, 0.1818181818181818), (562, 0.1818181818181818), (626, 0.1818181818181818), (825, 0.1818181818181818), (826, 0.1818181818181818), (1799, 0.1818181818181818), (1839, 0.1818181818181818), (2378, 0.1818181818181818), (2546, 0.1818181818181818), (2584, 0.1818181818181818), (3774, 0.1818181818181818), (4023, 0.1818181818181818), (4067, 0.1818181818181818), (4099, 0.1818181818181818), (4591, 0.1818181818181818), (82, 0.17782168978975482), (758, 0.17782168978975482), (801, 0.17782168978975482), (1030, 0.17782168978975482), (1508, 0.17782168978975482), (2051, 0.17782168978975482), (2797, 0.17782168978975482), (2824, 0.17782168978975482), (2842, 0.17782168978975482), (2915, 0.17782168978975482), (3658, 0.17782168978975482), (4127, 0.17782168978975482), (4281, 0.17782168978975482), (2646, 0.17739371879672478), (346, 0.17407765595569785), (354, 0.17407765595569785), (490, 0.17407765595569785), (510, 0.17407765595569785), (1588, 0.17407765595569785), (1647, 0.17407765595569785), (2808, 0.17407765595569785), (3020, 0.1709408646894569), (248, 0.17056057308448835), (271, 0.17056057308448835), (694, 0.17056057308448835), (741, 0.17056057308448835), (1786, 0.17056057308448835), (1888, 0.17056057308448835), (2402, 0.17056057308448835), (2568, 0.17056057308448835), (2569, 0.17056057308448835), (96, 0.16724840200141816), (280, 0.16724840200141816), (1036, 0.16724840200141816), (1557, 0.16724840200141816), (2203, 0.16724840200141816), (2207, 0.16724840200141816), (2700, 0.16724840200141816), (3257, 0.16724840200141816), (3935, 0.16724840200141816), (4642, 0.16724840200141816), (3517, 0.16514456476895406), (4203, 0.16514456476895406), (782, 0.16412198797244362), (1938, 0.16412198797244362), (2876, 0.16412198797244362), (3033, 0.16412198797244362), (364, 0.16116459280507603), (576, 0.16116459280507603), (1215, 0.16116459280507603), (2667, 0.16116459280507603), (3031, 0.16116459280507603), (2367, 0.1599005372667078), (2507, 0.1599005372667078), (2708, 0.1599005372667078), (3172, 0.1599005372667078), (3199, 0.1599005372667078), (3284, 0.1599005372667078), (3359, 0.1599005372667078), (3437, 0.1599005372667078), (3486, 0.1599005372667078), (4051, 0.1599005372667078), (4370, 0.1599005372667078), (1175, 0.15836151649297914), (2060, 0.15836151649297914), (2187, 0.15836151649297914), (2757, 0.15836151649297914), (878, 0.15569978883230456), (946, 0.15569978883230456), (3615, 0.15569978883230456), (3940, 0.15569978883230456), (1273, 0.15512630699850571), (1503, 0.15512630699850571), (1824, 0.15512630699850571), (2205, 0.15512630699850571), (2723, 0.15512630699850571), (2883, 0.15512630699850571), (3921, 0.15512630699850571), (3953, 0.15512630699850571), (4257, 0.15512630699850571), (1907, 0.1531679162134967), (921, 0.15075567228888181), (1280, 0.15075567228888181), (2859, 0.15075567228888181), (2891, 0.15075567228888181), (4313, 0.15075567228888181), (4483, 0.15075567228888181), (1186, 0.1484539238050411), (1469, 0.14673479641335552), (1600, 0.14673479641335552), (2048, 0.14673479641335552), (2154, 0.14673479641335552), (2332, 0.14673479641335552), (2670, 0.14673479641335552), (3498, 0.14673479641335552), (3550, 0.14673479641335552), (3631, 0.14673479641335552), (3853, 0.14673479641335552), (3969, 0.14673479641335552), (4324, 0.14673479641335552), (4492, 0.14673479641335552), (4691, 0.14673479641335552), (116, 0.1462544848254261), (192, 0.14301938838683884), (467, 0.14301938838683884), (632, 0.14301938838683884), (772, 0.14301938838683884), (852, 0.14301938838683884), (1149, 0.14301938838683884), (1247, 0.14301938838683884), (1592, 0.14301938838683884), (1674, 0.14301938838683884), (1704, 0.14301938838683884), (1727, 0.14301938838683884), (1793, 0.14301938838683884), (1924, 0.14301938838683884), (1941, 0.14301938838683884), (2047, 0.14301938838683884), (2063, 0.14301938838683884), (2610, 0.14301938838683884), (2793, 0.14301938838683884), (3060, 0.14301938838683884), (3504, 0.14301938838683884), (3587, 0.14301938838683884), (4360, 0.14301938838683884), (4460, 0.14301938838683884), (4514, 0.14301938838683884), (157, 0.13957263155977062), (314, 0.13957263155977062), (462, 0.13957263155977062), (637, 0.13957263155977062), (724, 0.13957263155977062), (845, 0.13957263155977062), (908, 0.13957263155977062), (980, 0.13957263155977062), (993, 0.13957263155977062), (1087, 0.13957263155977062), (1109, 0.13957263155977062), (1204, 0.13957263155977062), (1374, 0.13957263155977062), (1394, 0.13957263155977062), (1396, 0.13957263155977062), (1411, 0.13957263155977062), (1506, 0.13957263155977062), (1809, 0.13957263155977062), (1884, 0.13957263155977062), (1897, 0.13957263155977062), (1998, 0.13957263155977062), (2002, 0.13957263155977062), (2080, 0.13957263155977062), (2123, 0.13957263155977062), (2128, 0.13957263155977062), (2280, 0.13957263155977062), (2643, 0.13957263155977062), (2702, 0.13957263155977062), (2705, 0.13957263155977062), (2721, 0.13957263155977062), (3088, 0.13957263155977062), (3220, 0.13957263155977062), (3285, 0.13957263155977062), (3659, 0.13957263155977062), (3679, 0.13957263155977062), (3738, 0.13957263155977062), (3789, 0.13957263155977062), (3833, 0.13957263155977062), (3859, 0.13957263155977062), (4222, 0.13957263155977062), (4348, 0.13957263155977062), (4647, 0.13957263155977062), (4738, 0.13957263155977062), (4778, 0.13957263155977062), (100, 0.13636363636363635), (128, 0.13636363636363635), (143, 0.13636363636363635), (468, 0.13636363636363635), (564, 0.13636363636363635), (571, 0.13636363636363635), (606, 0.13636363636363635), (647, 0.13636363636363635), (717, 0.13636363636363635), (827, 0.13636363636363635), (879, 0.13636363636363635), (918, 0.13636363636363635), (1271, 0.13636363636363635), (1418, 0.13636363636363635), (1457, 0.13636363636363635), (1905, 0.13636363636363635), (1968, 0.13636363636363635), (1997, 0.13636363636363635), (2147, 0.13636363636363635), (2206, 0.13636363636363635), (2234, 0.13636363636363635), (2253, 0.13636363636363635), (2438, 0.13636363636363635), (2533, 0.13636363636363635), (2571, 0.13636363636363635), (2636, 0.13636363636363635), (2858, 0.13636363636363635), (2947, 0.13636363636363635), (2983, 0.13636363636363635), (3188, 0.13636363636363635), (3464, 0.13636363636363635), (3480, 0.13636363636363635), (3537, 0.13636363636363635), (3541, 0.13636363636363635), (3717, 0.13636363636363635), (4066, 0.13636363636363635), (4177, 0.13636363636363635), (4795, 0.13636363636363635), (78, 0.1333662673423161), (122, 0.1333662673423161), (140, 0.1333662673423161), (180, 0.1333662673423161), (190, 0.1333662673423161), (257, 0.1333662673423161), (286, 0.1333662673423161), (317, 0.1333662673423161), (421, 0.1333662673423161), (439, 0.1333662673423161), (544, 0.1333662673423161), (696, 0.1333662673423161), (876, 0.1333662673423161), (959, 0.1333662673423161), (987, 0.1333662673423161), (988, 0.1333662673423161), (1046, 0.1333662673423161), (1116, 0.1333662673423161), (1127, 0.1333662673423161), (1449, 0.1333662673423161), (1596, 0.1333662673423161), (1635, 0.1333662673423161), (1663, 0.1333662673423161), (1694, 0.1333662673423161), (1699, 0.1333662673423161), (1758, 0.1333662673423161), (1782, 0.1333662673423161), (2061, 0.1333662673423161), (2124, 0.1333662673423161), (2166, 0.1333662673423161), (2179, 0.1333662673423161), (2398, 0.1333662673423161), (2539, 0.1333662673423161), (2553, 0.1333662673423161), (2609, 0.1333662673423161), (2917, 0.1333662673423161), (2927, 0.1333662673423161), (3180, 0.1333662673423161), (3294, 0.1333662673423161), (3323, 0.1333662673423161), (3433, 0.1333662673423161), (3552, 0.1333662673423161), (3667, 0.1333662673423161), (3764, 0.1333662673423161), (3780, 0.1333662673423161), (3834, 0.1333662673423161), (3869, 0.1333662673423161), (4477, 0.1333662673423161), (4509, 0.1333662673423161), (4649, 0.1333662673423161), (4675, 0.1333662673423161), (370, 0.1305582419667734), (428, 0.1305582419667734), (542, 0.1305582419667734), (645, 0.1305582419667734), (714, 0.1305582419667734), (1035, 0.1305582419667734), (1103, 0.1305582419667734), (1240, 0.1305582419667734), (1245, 0.1305582419667734), (1313, 0.1305582419667734), (1578, 0.1305582419667734), (1766, 0.1305582419667734), (1787, 0.1305582419667734), (2117, 0.1305582419667734), (2204, 0.1305582419667734), (2239, 0.1305582419667734), (2405, 0.1305582419667734), (2647, 0.1305582419667734), (2773, 0.1305582419667734), (3293, 0.1305582419667734), (3333, 0.1305582419667734), (3421, 0.1305582419667734), (3532, 0.1305582419667734), (3700, 0.1305582419667734), (3839, 0.1305582419667734), (4157, 0.1305582419667734), (4320, 0.1305582419667734), (4527, 0.1305582419667734), (4715, 0.1305582419667734), (2421, 0.12856486930664499), (4493, 0.12856486930664499), (11, 0.12792042981336627), (43, 0.12792042981336627), (113, 0.12792042981336627), (538, 0.12792042981336627), (670, 0.12792042981336627), (850, 0.12792042981336627), (982, 0.12792042981336627), (1181, 0.12792042981336627), (1234, 0.12792042981336627), (1422, 0.12792042981336627), (1756, 0.12792042981336627), (2191, 0.12792042981336627), (2304, 0.12792042981336627), (2359, 0.12792042981336627), (2388, 0.12792042981336627), (2495, 0.12792042981336627), (2536, 0.12792042981336627), (2640, 0.12792042981336627), (2835, 0.12792042981336627), (2961, 0.12792042981336627), (3209, 0.12792042981336627), (3297, 0.12792042981336627), (3336, 0.12792042981336627), (3962, 0.12792042981336627), (4166, 0.12792042981336627), (575, 0.1254363015010636), (608, 0.1254363015010636), (693, 0.1254363015010636), (806, 0.1254363015010636), (851, 0.1254363015010636), (867, 0.1254363015010636), (873, 0.1254363015010636), (941, 0.1254363015010636), (1468, 0.1254363015010636), (1637, 0.1254363015010636), (1752, 0.1254363015010636), (1952, 0.1254363015010636), (2008, 0.1254363015010636), (2026, 0.1254363015010636), (2260, 0.1254363015010636), (2635, 0.1254363015010636), (2802, 0.1254363015010636), (3042, 0.1254363015010636), (3068, 0.1254363015010636), (3236, 0.1254363015010636), (3492, 0.1254363015010636), (3770, 0.1254363015010636), (4100, 0.1254363015010636), (4247, 0.12309149097933274), (4252, 0.12309149097933274), (4411, 0.12309149097933274), (4564, 0.12309149097933274), (4638, 0.12309149097933274), (333, 0.12309149097933272), (681, 0.12309149097933272), (695, 0.12309149097933272), (974, 0.12309149097933272), (1084, 0.12309149097933272), (1308, 0.12309149097933272), (2017, 0.12309149097933272), (2040, 0.12309149097933272), (2127, 0.12309149097933272), (2180, 0.12309149097933272), (2381, 0.12309149097933272), (2627, 0.12309149097933272), (3730, 0.12309149097933272), (4178, 0.12309149097933272), (4397, 0.12309149097933272), (4487, 0.12309149097933272), (33, 0.12087344460380703), (203, 0.12087344460380703), (713, 0.12087344460380703), (1188, 0.12087344460380703), (1303, 0.12087344460380703), (3250, 0.12087344460380703), (3476, 0.12087344460380703), (3873, 0.12087344460380703), (4065, 0.12087344460380703), (4162, 0.12087344460380703), (46, 0.11877113736973435), (147, 0.11877113736973435), (536, 0.11877113736973435), (830, 0.11877113736973435), (1151, 0.11877113736973435), (1781, 0.11877113736973435), (2545, 0.11877113736973435), (2790, 0.11877113736973435), (3074, 0.11877113736973435), (3881, 0.11877113736973435), (3884, 0.11877113736973435), (4555, 0.11877113736973435), (4142, 0.11826247919781652), (4285, 0.11826247919781652), (4618, 0.11826247919781652), (4658, 0.11826247919781652), (1003, 0.11677484162422842), (1145, 0.11677484162422842), (3409, 0.11677484162422842), (3813, 0.11677484162422842), (4089, 0.11677484162422842), (4704, 0.11677484162422842), (973, 0.11487593716012254), (1556, 0.11487593716012254), (1828, 0.11487593716012254), (2574, 0.11396057645963795), (2631, 0.11396057645963795), (2687, 0.11396057645963795), (2789, 0.11396057645963795), (3185, 0.11396057645963795), (3225, 0.11396057645963795), (3911, 0.11396057645963795), (4212, 0.11396057645963795), (4451, 0.11396057645963795), (4488, 0.11396057645963795), (4500, 0.11396057645963795), (4780, 0.11396057645963795), (658, 0.11306675421666135), (588, 0.11009637651263604), (881, 0.11009637651263604), (1258, 0.11009637651263604), (1269, 0.11009637651263604), (1873, 0.11009637651263604), (2460, 0.11009637651263604), (2649, 0.11009637651263604), (2738, 0.11009637651263604), (2764, 0.11009637651263604), (2779, 0.11009637651263604), (2976, 0.11009637651263604), (3080, 0.11009637651263604), (3207, 0.11009637651263604), (3280, 0.11009637651263604), (3306, 0.11009637651263604), (3371, 0.11009637651263604), (3590, 0.11009637651263604), (3632, 0.11009637651263604), (3669, 0.11009637651263604), (3718, 0.11009637651263604), (3857, 0.11009637651263604), (3863, 0.11009637651263604), (3968, 0.11009637651263604), (4038, 0.11009637651263604), (4047, 0.11009637651263604), (4055, 0.11009637651263604), (4111, 0.11009637651263604), (4168, 0.11009637651263604), (4205, 0.11009637651263604), (4342, 0.11009637651263604), (4421, 0.11009637651263604), (4422, 0.11009637651263604), (4482, 0.11009637651263604), (4506, 0.11009637651263604), (4559, 0.11009637651263604), (4590, 0.11009637651263604), (4630, 0.11009637651263604), (4775, 0.11009637651263604), (1005, 0.10969086361906957), (3530, 0.10969086361906957), (1047, 0.10811249552346706), (2028, 0.10660035817780521), (3087, 0.10660035817780521), (3392, 0.10660035817780521), (3510, 0.10660035817780521), (3727, 0.10660035817780521), (3779, 0.10660035817780521), (4105, 0.10660035817780521), (4160, 0.10660035817780521), (4330, 0.10660035817780521), (4476, 0.10660035817780521), (4519, 0.10660035817780521), (4522, 0.10660035817780521), (4646, 0.10660035817780521), (4693, 0.10660035817780521), (4764, 0.10660035817780521), (1177, 0.10514994558491725), (3125, 0.10514994558491725), (3140, 0.10514994558491725), (323, 0.10341753799900381), (774, 0.10341753799900381), (1169, 0.10341753799900381), (1253, 0.10341753799900381), (1264, 0.10341753799900381), (1474, 0.10341753799900381), (1631, 0.10341753799900381), (1789, 0.10341753799900381), (1816, 0.10341753799900381), (2188, 0.10341753799900381), (2364, 0.10341753799900381), (2903, 0.10341753799900381), (2932, 0.10341753799900381), (2973, 0.10341753799900381), (3043, 0.10341753799900381), (3114, 0.10341753799900381), (3299, 0.10341753799900381), (3322, 0.10341753799900381), (3665, 0.10341753799900381), (3948, 0.10341753799900381), (4256, 0.10341753799900381), (4386, 0.10341753799900381), (4449, 0.10341753799900381), (4531, 0.10341753799900381), (4734, 0.10341753799900381), (716, 0.10050378152592121), (753, 0.10050378152592121), (975, 0.10050378152592121), (1208, 0.10050378152592121), (1289, 0.10050378152592121), (1417, 0.10050378152592121), (1574, 0.10050378152592121), (1640, 0.10050378152592121), (1700, 0.10050378152592121), (1899, 0.10050378152592121), (1986, 0.10050378152592121), (2006, 0.10050378152592121), (2146, 0.10050378152592121), (2193, 0.10050378152592121), (2286, 0.10050378152592121), (2322, 0.10050378152592121), (2502, 0.10050378152592121), (2864, 0.10050378152592121), (2896, 0.10050378152592121), (2902, 0.10050378152592121), (2924, 0.10050378152592121), (2939, 0.10050378152592121), (2959, 0.10050378152592121), (3001, 0.10050378152592121), (3072, 0.10050378152592121), (3116, 0.10050378152592121), (3126, 0.10050378152592121), (3373, 0.10050378152592121), (3400, 0.10050378152592121), (3506, 0.10050378152592121), (3569, 0.10050378152592121), (3692, 0.10050378152592121), (3868, 0.10050378152592121), (3946, 0.10050378152592121), (3970, 0.10050378152592121), (4028, 0.10050378152592121), (4334, 0.10050378152592121), (4338, 0.10050378152592121), (4475, 0.10050378152592121), (4554, 0.10050378152592121), (4598, 0.10050378152592121), (264, 0.09782319760890368), (434, 0.09782319760890368), (463, 0.09782319760890368), (519, 0.09782319760890368), (593, 0.09782319760890368), (603, 0.09782319760890368), (747, 0.09782319760890368), (905, 0.09782319760890368), (936, 0.09782319760890368), (1203, 0.09782319760890368), (1311, 0.09782319760890368), (1342, 0.09782319760890368), (1414, 0.09782319760890368), (1448, 0.09782319760890368), (1595, 0.09782319760890368), (1665, 0.09782319760890368), (1954, 0.09782319760890368), (2143, 0.09782319760890368), (2176, 0.09782319760890368), (2202, 0.09782319760890368), (2251, 0.09782319760890368), (2267, 0.09782319760890368), (2268, 0.09782319760890368), (2474, 0.09782319760890368), (2505, 0.09782319760890368), (2531, 0.09782319760890368), (2734, 0.09782319760890368), (2776, 0.09782319760890368), (2874, 0.09782319760890368), (2972, 0.09782319760890368), (3058, 0.09782319760890368), (3069, 0.09782319760890368), (3308, 0.09782319760890368), (3338, 0.09782319760890368), (3363, 0.09782319760890368), (3381, 0.09782319760890368), (3441, 0.09782319760890368), (3455, 0.09782319760890368), (3489, 0.09782319760890368), (3515, 0.09782319760890368), (3600, 0.09782319760890368), (3628, 0.09782319760890368), (3666, 0.09782319760890368), (3778, 0.09782319760890368), (3791, 0.09782319760890368), (3908, 0.09782319760890368), (3945, 0.09782319760890368), (4054, 0.09782319760890368), (4058, 0.09782319760890368), (4158, 0.09782319760890368), (4300, 0.09782319760890368), (4436, 0.09782319760890368), (4496, 0.09782319760890368), (4599, 0.09782319760890368), (4602, 0.09782319760890368), (4608, 0.09782319760890368), (4650, 0.09782319760890368), (4793, 0.09782319760890368), (25, 0.09534625892455922), (385, 0.09534625892455922), (408, 0.09534625892455922), (464, 0.09534625892455922), (553, 0.09534625892455922), (580, 0.09534625892455922), (729, 0.09534625892455922), (731, 0.09534625892455922), (763, 0.09534625892455922), (776, 0.09534625892455922), (818, 0.09534625892455922), (849, 0.09534625892455922), (884, 0.09534625892455922), (938, 0.09534625892455922), (958, 0.09534625892455922), (970, 0.09534625892455922), (991, 0.09534625892455922), (1010, 0.09534625892455922), (1043, 0.09534625892455922), (1081, 0.09534625892455922), (1135, 0.09534625892455922), (1141, 0.09534625892455922), (1148, 0.09534625892455922), (1194, 0.09534625892455922), (1425, 0.09534625892455922), (1489, 0.09534625892455922), (1529, 0.09534625892455922), (1547, 0.09534625892455922), (1644, 0.09534625892455922), (1658, 0.09534625892455922), (1722, 0.09534625892455922), (1770, 0.09534625892455922), (1875, 0.09534625892455922), (1916, 0.09534625892455922), (1925, 0.09534625892455922), (2056, 0.09534625892455922), (2105, 0.09534625892455922), (2150, 0.09534625892455922), (2170, 0.09534625892455922), (2192, 0.09534625892455922), (2240, 0.09534625892455922), (2277, 0.09534625892455922), (2291, 0.09534625892455922), (2300, 0.09534625892455922), (2358, 0.09534625892455922), (2463, 0.09534625892455922), (2562, 0.09534625892455922), (2575, 0.09534625892455922), (2585, 0.09534625892455922), (2676, 0.09534625892455922), (2765, 0.09534625892455922), (2771, 0.09534625892455922), (2778, 0.09534625892455922), (2780, 0.09534625892455922), (2907, 0.09534625892455922), (3000, 0.09534625892455922), (3048, 0.09534625892455922), (3053, 0.09534625892455922), (3075, 0.09534625892455922), (3096, 0.09534625892455922), (3134, 0.09534625892455922), (3246, 0.09534625892455922), (3330, 0.09534625892455922), (3368, 0.09534625892455922), (3394, 0.09534625892455922), (3459, 0.09534625892455922), (3527, 0.09534625892455922), (3634, 0.09534625892455922), (3642, 0.09534625892455922), (3678, 0.09534625892455922), (3701, 0.09534625892455922), (3726, 0.09534625892455922), (3862, 0.09534625892455922), (3865, 0.09534625892455922), (4018, 0.09534625892455922), (4064, 0.09534625892455922), (4136, 0.09534625892455922), (4139, 0.09534625892455922), (4154, 0.09534625892455922), (4290, 0.09534625892455922), (4329, 0.09534625892455922), (4399, 0.09534625892455922), (4428, 0.09534625892455922), (4461, 0.09534625892455922), (4511, 0.09534625892455922), (4528, 0.09534625892455922), (4539, 0.09534625892455922), (4707, 0.09534625892455922), (4722, 0.09534625892455922), (4733, 0.09534625892455922), (4756, 0.09534625892455922), (4776, 0.09534625892455922), (4797, 0.09534625892455922), (49, 0.09304842103984708), (80, 0.09304842103984708), (134, 0.09304842103984708), (166, 0.09304842103984708), (167, 0.09304842103984708), (170, 0.09304842103984708), (188, 0.09304842103984708), (213, 0.09304842103984708), (215, 0.09304842103984708), (219, 0.09304842103984708), (244, 0.09304842103984708), (396, 0.09304842103984708), (474, 0.09304842103984708), (609, 0.09304842103984708), (644, 0.09304842103984708), (677, 0.09304842103984708), (721, 0.09304842103984708), (743, 0.09304842103984708), (764, 0.09304842103984708), (771, 0.09304842103984708), (834, 0.09304842103984708), (865, 0.09304842103984708), (872, 0.09304842103984708), (919, 0.09304842103984708), (940, 0.09304842103984708), (965, 0.09304842103984708), (969, 0.09304842103984708), (1107, 0.09304842103984708), (1187, 0.09304842103984708), (1211, 0.09304842103984708), (1221, 0.09304842103984708), (1410, 0.09304842103984708), (1427, 0.09304842103984708), (1433, 0.09304842103984708), (1470, 0.09304842103984708), (1577, 0.09304842103984708), (1615, 0.09304842103984708), (1632, 0.09304842103984708), (1688, 0.09304842103984708), (1734, 0.09304842103984708), (1760, 0.09304842103984708), (1820, 0.09304842103984708), (1822, 0.09304842103984708), (1843, 0.09304842103984708), (1909, 0.09304842103984708), (1912, 0.09304842103984708), (1918, 0.09304842103984708), (2078, 0.09304842103984708), (2088, 0.09304842103984708), (2237, 0.09304842103984708), (2269, 0.09304842103984708), (2350, 0.09304842103984708), (2385, 0.09304842103984708), (2432, 0.09304842103984708), (2447, 0.09304842103984708), (2586, 0.09304842103984708), (2632, 0.09304842103984708), (2748, 0.09304842103984708), (2760, 0.09304842103984708), (2783, 0.09304842103984708), (2792, 0.09304842103984708), (2801, 0.09304842103984708), (3112, 0.09304842103984708), (3151, 0.09304842103984708), (3160, 0.09304842103984708), (3452, 0.09304842103984708), (3479, 0.09304842103984708), (3495, 0.09304842103984708), (3518, 0.09304842103984708), (3545, 0.09304842103984708), (3668, 0.09304842103984708), (3704, 0.09304842103984708), (3710, 0.09304842103984708), (3811, 0.09304842103984708), (3851, 0.09304842103984708), (3894, 0.09304842103984708), (3900, 0.09304842103984708), (3939, 0.09304842103984708), (3941, 0.09304842103984708), (4032, 0.09304842103984708), (4063, 0.09304842103984708), (4114, 0.09304842103984708), (4132, 0.09304842103984708), (4150, 0.09304842103984708), (4189, 0.09304842103984708), (4368, 0.09304842103984708), (4388, 0.09304842103984708), (4408, 0.09304842103984708), (4542, 0.09304842103984708), (4688, 0.09304842103984708), (4713, 0.09304842103984708), (4748, 0.09304842103984708), (8, 0.0909090909090909), (29, 0.0909090909090909), (85, 0.0909090909090909), (87, 0.0909090909090909), (98, 0.0909090909090909), (103, 0.0909090909090909), (142, 0.0909090909090909), (201, 0.0909090909090909), (222, 0.0909090909090909), (288, 0.0909090909090909), (297, 0.0909090909090909), (310, 0.0909090909090909), (351, 0.0909090909090909), (360, 0.0909090909090909), (377, 0.0909090909090909), (386, 0.0909090909090909), (422, 0.0909090909090909), (454, 0.0909090909090909), (477, 0.0909090909090909), (493, 0.0909090909090909), (590, 0.0909090909090909), (617, 0.0909090909090909), (636, 0.0909090909090909), (659, 0.0909090909090909), (672, 0.0909090909090909), (732, 0.0909090909090909), (755, 0.0909090909090909), (779, 0.0909090909090909), (808, 0.0909090909090909), (950, 0.0909090909090909), (995, 0.0909090909090909), (1038, 0.0909090909090909), (1049, 0.0909090909090909), (1083, 0.0909090909090909), (1092, 0.0909090909090909), (1156, 0.0909090909090909), (1170, 0.0909090909090909), (1178, 0.0909090909090909), (1202, 0.0909090909090909), (1250, 0.0909090909090909), (1255, 0.0909090909090909), (1320, 0.0909090909090909), (1327, 0.0909090909090909), (1351, 0.0909090909090909), (1423, 0.0909090909090909), (1429, 0.0909090909090909), (1440, 0.0909090909090909), (1456, 0.0909090909090909), (1485, 0.0909090909090909), (1553, 0.0909090909090909), (1624, 0.0909090909090909), (1711, 0.0909090909090909), (1724, 0.0909090909090909), (1728, 0.0909090909090909), (1785, 0.0909090909090909), (1794, 0.0909090909090909), (1808, 0.0909090909090909), (1826, 0.0909090909090909), (1844, 0.0909090909090909), (1853, 0.0909090909090909), (1902, 0.0909090909090909), (2087, 0.0909090909090909), (2130, 0.0909090909090909), (2135, 0.0909090909090909), (2145, 0.0909090909090909), (2151, 0.0909090909090909), (2211, 0.0909090909090909), (2250, 0.0909090909090909), (2255, 0.0909090909090909), (2301, 0.0909090909090909), (2340, 0.0909090909090909), (2342, 0.0909090909090909), (2356, 0.0909090909090909), (2395, 0.0909090909090909), (2448, 0.0909090909090909), (2534, 0.0909090909090909), (2543, 0.0909090909090909), (2549, 0.0909090909090909), (2573, 0.0909090909090909), (2596, 0.0909090909090909), (2688, 0.0909090909090909), (2692, 0.0909090909090909), (2795, 0.0909090909090909), (2818, 0.0909090909090909), (2830, 0.0909090909090909), (2897, 0.0909090909090909), (2952, 0.0909090909090909), (2988, 0.0909090909090909), (2997, 0.0909090909090909), (3091, 0.0909090909090909), (3113, 0.0909090909090909), (3120, 0.0909090909090909), (3123, 0.0909090909090909), (3234, 0.0909090909090909), (3316, 0.0909090909090909), (3372, 0.0909090909090909), (3380, 0.0909090909090909), (3405, 0.0909090909090909), (3414, 0.0909090909090909), (3434, 0.0909090909090909), (3578, 0.0909090909090909), (3608, 0.0909090909090909), (3630, 0.0909090909090909), (3633, 0.0909090909090909), (3698, 0.0909090909090909), (3732, 0.0909090909090909), (3761, 0.0909090909090909), (3785, 0.0909090909090909), (3795, 0.0909090909090909), (3810, 0.0909090909090909), (3965, 0.0909090909090909), (3966, 0.0909090909090909), (3980, 0.0909090909090909), (4145, 0.0909090909090909), (4151, 0.0909090909090909), (4190, 0.0909090909090909), (4194, 0.0909090909090909), (4287, 0.0909090909090909), (4347, 0.0909090909090909), (4379, 0.0909090909090909), (4472, 0.0909090909090909), (4624, 0.0909090909090909), (76, 0.08891084489487741), (139, 0.08891084489487741), (154, 0.08891084489487741), (220, 0.08891084489487741), (221, 0.08891084489487741), (237, 0.08891084489487741), (279, 0.08891084489487741), (378, 0.08891084489487741), (388, 0.08891084489487741), (406, 0.08891084489487741), (513, 0.08891084489487741), (528, 0.08891084489487741), (662, 0.08891084489487741), (746, 0.08891084489487741), (761, 0.08891084489487741), (762, 0.08891084489487741), (777, 0.08891084489487741), (815, 0.08891084489487741), (823, 0.08891084489487741), (862, 0.08891084489487741), (924, 0.08891084489487741), (929, 0.08891084489487741), (931, 0.08891084489487741), (961, 0.08891084489487741), (1120, 0.08891084489487741), (1129, 0.08891084489487741), (1209, 0.08891084489487741), (1252, 0.08891084489487741), (1254, 0.08891084489487741), (1284, 0.08891084489487741), (1352, 0.08891084489487741), (1360, 0.08891084489487741), (1390, 0.08891084489487741), (1401, 0.08891084489487741), (1445, 0.08891084489487741), (1484, 0.08891084489487741), (1507, 0.08891084489487741), (1512, 0.08891084489487741), (1533, 0.08891084489487741), (1535, 0.08891084489487741), (1575, 0.08891084489487741), (1610, 0.08891084489487741), (1618, 0.08891084489487741), (1639, 0.08891084489487741), (1670, 0.08891084489487741), (1687, 0.08891084489487741), (1751, 0.08891084489487741), (1784, 0.08891084489487741), (1792, 0.08891084489487741), (1800, 0.08891084489487741), (1813, 0.08891084489487741), (1845, 0.08891084489487741), (1850, 0.08891084489487741), (1928, 0.08891084489487741), (1991, 0.08891084489487741), (2029, 0.08891084489487741), (2030, 0.08891084489487741), (2038, 0.08891084489487741), (2233, 0.08891084489487741), (2320, 0.08891084489487741), (2362, 0.08891084489487741), (2366, 0.08891084489487741), (2375, 0.08891084489487741), (2392, 0.08891084489487741), (2449, 0.08891084489487741), (2555, 0.08891084489487741), (2567, 0.08891084489487741), (2603, 0.08891084489487741), (2626, 0.08891084489487741), (2794, 0.08891084489487741), (2845, 0.08891084489487741), (2868, 0.08891084489487741), (2901, 0.08891084489487741), (2926, 0.08891084489487741), (2998, 0.08891084489487741), (3014, 0.08891084489487741), (3052, 0.08891084489487741), (3082, 0.08891084489487741), (3104, 0.08891084489487741), (3145, 0.08891084489487741), (3162, 0.08891084489487741), (3173, 0.08891084489487741), (3183, 0.08891084489487741), (3196, 0.08891084489487741), (3204, 0.08891084489487741), (3275, 0.08891084489487741), (3342, 0.08891084489487741), (3362, 0.08891084489487741), (3427, 0.08891084489487741), (3454, 0.08891084489487741), (3695, 0.08891084489487741), (3826, 0.08891084489487741), (3877, 0.08891084489487741), (3879, 0.08891084489487741), (3910, 0.08891084489487741), (3952, 0.08891084489487741), (4011, 0.08891084489487741), (4021, 0.08891084489487741), (4077, 0.08891084489487741), (4170, 0.08891084489487741), (4230, 0.08891084489487741), (4232, 0.08891084489487741), (4291, 0.08891084489487741), (4297, 0.08891084489487741), (4312, 0.08891084489487741), (4337, 0.08891084489487741), (4372, 0.08891084489487741), (4402, 0.08891084489487741), (4437, 0.08891084489487741), (4457, 0.08891084489487741), (4549, 0.08891084489487741), (4603, 0.08891084489487741), (4639, 0.08891084489487741), (4792, 0.08891084489487741), (109, 0.08703882797784893), (127, 0.08703882797784893), (270, 0.08703882797784893), (312, 0.08703882797784893), (326, 0.08703882797784893), (335, 0.08703882797784893), (339, 0.08703882797784893), (356, 0.08703882797784893), (376, 0.08703882797784893), (596, 0.08703882797784893), (611, 0.08703882797784893), (625, 0.08703882797784893), (660, 0.08703882797784893), (684, 0.08703882797784893), (685, 0.08703882797784893), (720, 0.08703882797784893), (735, 0.08703882797784893), (767, 0.08703882797784893), (781, 0.08703882797784893), (794, 0.08703882797784893), (844, 0.08703882797784893), (883, 0.08703882797784893), (979, 0.08703882797784893), (1022, 0.08703882797784893), (1094, 0.08703882797784893), (1131, 0.08703882797784893), (1195, 0.08703882797784893), (1224, 0.08703882797784893), (1231, 0.08703882797784893), (1243, 0.08703882797784893), (1282, 0.08703882797784893), (1406, 0.08703882797784893), (1543, 0.08703882797784893), (1586, 0.08703882797784893), (1666, 0.08703882797784893), (1669, 0.08703882797784893), (1743, 0.08703882797784893), (1744, 0.08703882797784893), (1761, 0.08703882797784893), (1831, 0.08703882797784893), (1944, 0.08703882797784893), (1945, 0.08703882797784893), (1993, 0.08703882797784893), (2120, 0.08703882797784893), (2157, 0.08703882797784893), (2195, 0.08703882797784893), (2285, 0.08703882797784893), (2318, 0.08703882797784893), (2348, 0.08703882797784893), (2428, 0.08703882797784893), (2529, 0.08703882797784893), (2621, 0.08703882797784893), (2642, 0.08703882797784893), (2704, 0.08703882797784893), (2713, 0.08703882797784893), (2826, 0.08703882797784893), (2863, 0.08703882797784893), (3083, 0.08703882797784893), (3086, 0.08703882797784893), (3093, 0.08703882797784893), (3109, 0.08703882797784893), (3168, 0.08703882797784893), (3195, 0.08703882797784893), (3251, 0.08703882797784893), (3431, 0.08703882797784893), (3439, 0.08703882797784893), (3507, 0.08703882797784893), (3593, 0.08703882797784893), (3644, 0.08703882797784893), (3685, 0.08703882797784893), (3711, 0.08703882797784893), (3902, 0.08703882797784893), (3944, 0.08703882797784893), (4119, 0.08703882797784893), (4124, 0.08703882797784893), (4398, 0.08703882797784893), (4439, 0.08703882797784893), (4615, 0.08703882797784893), (4670, 0.08703882797784893), (104, 0.08528028654224418), (135, 0.08528028654224418), (149, 0.08528028654224418), (183, 0.08528028654224418), (232, 0.08528028654224418), (247, 0.08528028654224418), (275, 0.08528028654224418), (737, 0.08528028654224418), (807, 0.08528028654224418), (920, 0.08528028654224418), (930, 0.08528028654224418), (944, 0.08528028654224418), (994, 0.08528028654224418), (1063, 0.08528028654224418), (1100, 0.08528028654224418), (1105, 0.08528028654224418), (1154, 0.08528028654224418), (1158, 0.08528028654224418), (1165, 0.08528028654224418), (1199, 0.08528028654224418), (1236, 0.08528028654224418), (1323, 0.08528028654224418), (1359, 0.08528028654224418), (1515, 0.08528028654224418), (1651, 0.08528028654224418), (1654, 0.08528028654224418), (1660, 0.08528028654224418), (1749, 0.08528028654224418), (1773, 0.08528028654224418), (1802, 0.08528028654224418), (1805, 0.08528028654224418), (1829, 0.08528028654224418), (1836, 0.08528028654224418), (1864, 0.08528028654224418), (2053, 0.08528028654224418), (2091, 0.08528028654224418), (2108, 0.08528028654224418), (2134, 0.08528028654224418), (2218, 0.08528028654224418), (2243, 0.08528028654224418), (2265, 0.08528028654224418), (2306, 0.08528028654224418), (2327, 0.08528028654224418), (2354, 0.08528028654224418), (2365, 0.08528028654224418), (2377, 0.08528028654224418), (2440, 0.08528028654224418), (2484, 0.08528028654224418), (2493, 0.08528028654224418), (2522, 0.08528028654224418), (2645, 0.08528028654224418), (2657, 0.08528028654224418), (2829, 0.08528028654224418), (2847, 0.08528028654224418), (2906, 0.08528028654224418), (3006, 0.08528028654224418), (3018, 0.08528028654224418), (3040, 0.08528028654224418), (3050, 0.08528028654224418), (3146, 0.08528028654224418), (3240, 0.08528028654224418), (3252, 0.08528028654224418), (3273, 0.08528028654224418), (3366, 0.08528028654224418), (3430, 0.08528028654224418), (3477, 0.08528028654224418), (3524, 0.08528028654224418), (3556, 0.08528028654224418), (3599, 0.08528028654224418), (3603, 0.08528028654224418), (3604, 0.08528028654224418), (3722, 0.08528028654224418), (3734, 0.08528028654224418), (3880, 0.08528028654224418), (3896, 0.08528028654224418), (4209, 0.08528028654224418), (4573, 0.08528028654224418), (4717, 0.08528028654224418), (45, 0.08362420100070908), (186, 0.08362420100070908), (223, 0.08362420100070908), (365, 0.08362420100070908), (410, 0.08362420100070908), (451, 0.08362420100070908), (587, 0.08362420100070908), (607, 0.08362420100070908), (680, 0.08362420100070908), (690, 0.08362420100070908), (711, 0.08362420100070908), (759, 0.08362420100070908), (1019, 0.08362420100070908), (1023, 0.08362420100070908), (1034, 0.08362420100070908), (1102, 0.08362420100070908), (1152, 0.08362420100070908), (1153, 0.08362420100070908), (1338, 0.08362420100070908), (1465, 0.08362420100070908), (1473, 0.08362420100070908), (1523, 0.08362420100070908), (1617, 0.08362420100070908), (1725, 0.08362420100070908), (1870, 0.08362420100070908), (1985, 0.08362420100070908), (2181, 0.08362420100070908), (2334, 0.08362420100070908), (2403, 0.08362420100070908), (2424, 0.08362420100070908), (2435, 0.08362420100070908), (2488, 0.08362420100070908), (2524, 0.08362420100070908), (2558, 0.08362420100070908), (2593, 0.08362420100070908), (2633, 0.08362420100070908), (2742, 0.08362420100070908), (2941, 0.08362420100070908), (3003, 0.08362420100070908), (3073, 0.08362420100070908), (3108, 0.08362420100070908), (3197, 0.08362420100070908), (3291, 0.08362420100070908), (3334, 0.08362420100070908), (3351, 0.08362420100070908), (3474, 0.08362420100070908), (3696, 0.08362420100070908), (4081, 0.08362420100070908), (4448, 0.08362420100070908), (268, 0.08206099398622181), (291, 0.08206099398622181), (358, 0.08206099398622181), (511, 0.08206099398622181), (512, 0.08206099398622181), (752, 0.08206099398622181), (922, 0.08206099398622181), (996, 0.08206099398622181), (1001, 0.08206099398622181), (1016, 0.08206099398622181), (1220, 0.08206099398622181), (1281, 0.08206099398622181), (1315, 0.08206099398622181), (1328, 0.08206099398622181), (1444, 0.08206099398622181), (1591, 0.08206099398622181), (1664, 0.08206099398622181), (1996, 0.08206099398622181), (2052, 0.08206099398622181), (2169, 0.08206099398622181), (2208, 0.08206099398622181), (2336, 0.08206099398622181), (2346, 0.08206099398622181), (2384, 0.08206099398622181), (2480, 0.08206099398622181), (2727, 0.08206099398622181), (2893, 0.08206099398622181), (3054, 0.08206099398622181), (3446, 0.08206099398622181), (3516, 0.08206099398622181), (3533, 0.08206099398622181), (3708, 0.08206099398622181), (3750, 0.08206099398622181), (3794, 0.08206099398622181), (4144, 0.08206099398622181), (4197, 0.08206099398622181), (4211, 0.08206099398622181), (4226, 0.08206099398622181), (4440, 0.08206099398622181), (4467, 0.08206099398622181), (4551, 0.08206099398622181), (26, 0.08058229640253801), (79, 0.08058229640253801), (163, 0.08058229640253801), (176, 0.08058229640253801), (402, 0.08058229640253801), (525, 0.08058229640253801), (545, 0.08058229640253801), (581, 0.08058229640253801), (621, 0.08058229640253801), (1111, 0.08058229640253801), (1136, 0.08058229640253801), (1431, 0.08058229640253801), (1452, 0.08058229640253801), (1518, 0.08058229640253801), (1720, 0.08058229640253801), (1892, 0.08058229640253801), (1921, 0.08058229640253801), (1967, 0.08058229640253801), (2190, 0.08058229640253801), (2225, 0.08058229640253801), (2470, 0.08058229640253801), (2578, 0.08058229640253801), (2736, 0.08058229640253801), (3249, 0.08058229640253801), (3548, 0.08058229640253801), (3675, 0.08058229640253801), (3759, 0.08058229640253801), (3891, 0.08058229640253801), (4019, 0.08058229640253801), (4447, 0.08058229640253801), (4453, 0.08058229640253801), (4510, 0.08058229640253801), (40, 0.07918075824648957), (442, 0.07918075824648957), (939, 0.07918075824648957), (983, 0.07918075824648957), (1007, 0.07918075824648957), (1028, 0.07918075824648957), (1029, 0.07918075824648957), (1052, 0.07918075824648957), (1061, 0.07918075824648957), (1490, 0.07918075824648957), (1531, 0.07918075824648957), (1740, 0.07918075824648957), (1817, 0.07918075824648957), (2148, 0.07918075824648957), (2521, 0.07918075824648957), (2745, 0.07918075824648957), (2758, 0.07918075824648957), (3124, 0.07918075824648957), (3350, 0.07918075824648957), (3706, 0.07918075824648957), (4000, 0.07918075824648957), (4265, 0.07918075824648957), (7, 0.07784989441615228), (66, 0.07784989441615228), (278, 0.07784989441615228), (456, 0.07784989441615228), (990, 0.07784989441615228), (1075, 0.07784989441615228), (2138, 0.07784989441615228), (4796, 0.07784989441615228), (16, 0.07658395810674835), (239, 0.07658395810674835), (444, 0.07658395810674835), (452, 0.07658395810674835), (629, 0.07658395810674835), (1192, 0.07658395810674835), (2597, 0.07658395810674835), (2628, 0.07658395810674835), (2803, 0.07658395810674835), (2888, 0.07658395810674835), (4107, 0.07658395810674835), (683, 0.0753778361444409), (718, 0.0753778361444409), (1439, 0.0753778361444409), (4574, 0.0753778361444409), (1193, 0.07422696190252055), (3413, 0.07422696190252055), (2068, 0.07312724241271305), (2263, 0.07312724241271305), (3386, 0.07312724241271305), (283, 0.07207499701564471), (2469, 0.07207499701564471), (2592, 0.07207499701564471), (405, 0.07009996372327816), (2623, 0.07009996372327816), (3971, 0.0674199862463242), (4418, 0.0674199862463242), (4426, 0.0674199862463242), (3977, 0.06428243465332249), (4027, 0.06428243465332249), (4540, 0.06428243465332249), (4641, 0.06428243465332249), (4708, 0.06428243465332249), (4712, 0.06428243465332249), (4721, 0.06428243465332249), (1796, 0.06286946134619315), (3119, 0.06154574548966637), (3661, 0.06154574548966637), (3793, 0.06154574548966637), (3836, 0.06154574548966637), (4328, 0.06154574548966637), (4607, 0.06154574548966637), (4774, 0.06154574548966637), (4777, 0.06154574548966637), (1544, 0.05913123959890826), (2256, 0.05913123959890826), (2292, 0.05913123959890826), (3103, 0.05913123959890826), (3781, 0.05913123959890826), (4057, 0.05913123959890826), (4233, 0.05913123959890826), (4236, 0.05913123959890826), (4273, 0.05913123959890826), (4357, 0.05913123959890826), (4369, 0.05913123959890826), (4389, 0.05913123959890826), (4415, 0.05913123959890826), (4416, 0.05913123959890826), (4501, 0.05913123959890826), (4515, 0.05913123959890826), (4517, 0.05913123959890826), (4569, 0.05913123959890826), (4628, 0.05913123959890826), (4663, 0.05913123959890826), (4760, 0.05913123959890826), (1099, 0.05698028822981897), (1464, 0.05698028822981897), (1834, 0.05698028822981897), (1963, 0.05698028822981897), (2070, 0.05698028822981897), (2079, 0.05698028822981897), (2081, 0.05698028822981897), (2242, 0.05698028822981897), (2436, 0.05698028822981897), (2634, 0.05698028822981897), (2658, 0.05698028822981897), (2770, 0.05698028822981897), (2908, 0.05698028822981897), (2909, 0.05698028822981897), (2933, 0.05698028822981897), (2970, 0.05698028822981897), (3021, 0.05698028822981897), (3076, 0.05698028822981897), (3078, 0.05698028822981897), (3166, 0.05698028822981897), (3194, 0.05698028822981897), (3224, 0.05698028822981897), (3304, 0.05698028822981897), (3319, 0.05698028822981897), (3354, 0.05698028822981897), (3432, 0.05698028822981897), (3485, 0.05698028822981897), (3500, 0.05698028822981897), (3598, 0.05698028822981897), (3610, 0.05698028822981897), (3649, 0.05698028822981897), (3798, 0.05698028822981897), (3852, 0.05698028822981897), (3967, 0.05698028822981897), (4086, 0.05698028822981897), (4161, 0.05698028822981897), (4184, 0.05698028822981897), (4198, 0.05698028822981897), (4311, 0.05698028822981897), (4430, 0.05698028822981897), (4502, 0.05698028822981897), (4523, 0.05698028822981897), (4543, 0.05698028822981897), (4580, 0.05698028822981897), (4584, 0.05698028822981897), (4627, 0.05698028822981897), (4655, 0.05698028822981897), (4667, 0.05698028822981897), (4690, 0.05698028822981897), (4751, 0.05698028822981897), (4784, 0.05698028822981897), (4791, 0.05698028822981897), (357, 0.05504818825631802), (678, 0.05504818825631802), (966, 0.05504818825631802), (1072, 0.05504818825631802), (1179, 0.05504818825631802), (1267, 0.05504818825631802), (1597, 0.05504818825631802), (1692, 0.05504818825631802), (1901, 0.05504818825631802), (1913, 0.05504818825631802), (1926, 0.05504818825631802), (1962, 0.05504818825631802), (1979, 0.05504818825631802), (2001, 0.05504818825631802), (2005, 0.05504818825631802), (2011, 0.05504818825631802), (2614, 0.05504818825631802), (2622, 0.05504818825631802), (2629, 0.05504818825631802), (2709, 0.05504818825631802), (2833, 0.05504818825631802), (2878, 0.05504818825631802), (2892, 0.05504818825631802), (2928, 0.05504818825631802), (2963, 0.05504818825631802), (3022, 0.05504818825631802), (3154, 0.05504818825631802), (3164, 0.05504818825631802), (3223, 0.05504818825631802), (3287, 0.05504818825631802), (3292, 0.05504818825631802), (3302, 0.05504818825631802), (3393, 0.05504818825631802), (3453, 0.05504818825631802), (3487, 0.05504818825631802), (3501, 0.05504818825631802), (3509, 0.05504818825631802), (3521, 0.05504818825631802), (3528, 0.05504818825631802), (3544, 0.05504818825631802), (3674, 0.05504818825631802), (3714, 0.05504818825631802), (3729, 0.05504818825631802), (3796, 0.05504818825631802), (3913, 0.05504818825631802), (3972, 0.05504818825631802), (4056, 0.05504818825631802), (4070, 0.05504818825631802), (4133, 0.05504818825631802), (4143, 0.05504818825631802), (4208, 0.05504818825631802), (4255, 0.05504818825631802), (4258, 0.05504818825631802), (4277, 0.05504818825631802), (4299, 0.05504818825631802), (4377, 0.05504818825631802), (4417, 0.05504818825631802), (4462, 0.05504818825631802), (4541, 0.05504818825631802), (4552, 0.05504818825631802), (4612, 0.05504818825631802), (4614, 0.05504818825631802), (4625, 0.05504818825631802), (4629, 0.05504818825631802), (4634, 0.05504818825631802), (4694, 0.05504818825631802), (4746, 0.05504818825631802), (4754, 0.05504818825631802), (4783, 0.05504818825631802), (4790, 0.05504818825631802), (4794, 0.05504818825631802), (344, 0.053300179088902604), (866, 0.053300179088902604), (916, 0.053300179088902604), (967, 0.053300179088902604), (1039, 0.053300179088902604), (1069, 0.053300179088902604), (1097, 0.053300179088902604), (1241, 0.053300179088902604), (1295, 0.053300179088902604), (1357, 0.053300179088902604), (1522, 0.053300179088902604), (1629, 0.053300179088902604), (1641, 0.053300179088902604), (1678, 0.053300179088902604), (1679, 0.053300179088902604), (1863, 0.053300179088902604), (1898, 0.053300179088902604), (1949, 0.053300179088902604), (2000, 0.053300179088902604), (2010, 0.053300179088902604), (2059, 0.053300179088902604), (2259, 0.053300179088902604), (2273, 0.053300179088902604), (2485, 0.053300179088902604), (2519, 0.053300179088902604), (2563, 0.053300179088902604), (2611, 0.053300179088902604), (2728, 0.053300179088902604), (2882, 0.053300179088902604), (2910, 0.053300179088902604), (2921, 0.053300179088902604), (2956, 0.053300179088902604), (3077, 0.053300179088902604), (3081, 0.053300179088902604), (3127, 0.053300179088902604), (3205, 0.053300179088902604), (3226, 0.053300179088902604), (3264, 0.053300179088902604), (3271, 0.053300179088902604), (3282, 0.053300179088902604), (3314, 0.053300179088902604), (3326, 0.053300179088902604), (3331, 0.053300179088902604), (3376, 0.053300179088902604), (3412, 0.053300179088902604), (3461, 0.053300179088902604), (3497, 0.053300179088902604), (3513, 0.053300179088902604), (3589, 0.053300179088902604), (3591, 0.053300179088902604), (3655, 0.053300179088902604), (3686, 0.053300179088902604), (3747, 0.053300179088902604), (3762, 0.053300179088902604), (3792, 0.053300179088902604), (3803, 0.053300179088902604), (3823, 0.053300179088902604), (3840, 0.053300179088902604), (3957, 0.053300179088902604), (3995, 0.053300179088902604), (4044, 0.053300179088902604), (4048, 0.053300179088902604), (4097, 0.053300179088902604), (4169, 0.053300179088902604), (4199, 0.053300179088902604), (4207, 0.053300179088902604), (4239, 0.053300179088902604), (4243, 0.053300179088902604), (4253, 0.053300179088902604), (4266, 0.053300179088902604), (4279, 0.053300179088902604), (4289, 0.053300179088902604), (4296, 0.053300179088902604), (4301, 0.053300179088902604), (4304, 0.053300179088902604), (4375, 0.053300179088902604), (4384, 0.053300179088902604), (4410, 0.053300179088902604), (4455, 0.053300179088902604), (4499, 0.053300179088902604), (4534, 0.053300179088902604), (4548, 0.053300179088902604), (4556, 0.053300179088902604), (4645, 0.053300179088902604), (4653, 0.053300179088902604), (4656, 0.053300179088902604), (4676, 0.053300179088902604), (4730, 0.053300179088902604), (4785, 0.053300179088902604), (518, 0.05170876899950191), (530, 0.05170876899950191), (584, 0.05170876899950191), (600, 0.05170876899950191), (1248, 0.05170876899950191), (1276, 0.05170876899950191), (1278, 0.05170876899950191), (1383, 0.05170876899950191), (1601, 0.05170876899950191), (1628, 0.05170876899950191), (1732, 0.05170876899950191), (1739, 0.05170876899950191), (1767, 0.05170876899950191), (1978, 0.05170876899950191), (2302, 0.05170876899950191), (2369, 0.05170876899950191), (2414, 0.05170876899950191), (2466, 0.05170876899950191), (2481, 0.05170876899950191), (2498, 0.05170876899950191), (2648, 0.05170876899950191), (2652, 0.05170876899950191), (2663, 0.05170876899950191), (2703, 0.05170876899950191), (3025, 0.05170876899950191), (3092, 0.05170876899950191), (3130, 0.05170876899950191), (3144, 0.05170876899950191), (3186, 0.05170876899950191), (3286, 0.05170876899950191), (3361, 0.05170876899950191), (3377, 0.05170876899950191), (3396, 0.05170876899950191), (3416, 0.05170876899950191), (3493, 0.05170876899950191), (3508, 0.05170876899950191), (3542, 0.05170876899950191), (3652, 0.05170876899950191), (3687, 0.05170876899950191), (3875, 0.05170876899950191), (3919, 0.05170876899950191), (3926, 0.05170876899950191), (3932, 0.05170876899950191), (3961, 0.05170876899950191), (4004, 0.05170876899950191), (4037, 0.05170876899950191), (4069, 0.05170876899950191), (4091, 0.05170876899950191), (4122, 0.05170876899950191), (4146, 0.05170876899950191), (4186, 0.05170876899950191), (4275, 0.05170876899950191), (4280, 0.05170876899950191), (4309, 0.05170876899950191), (4354, 0.05170876899950191), (4362, 0.05170876899950191), (4459, 0.05170876899950191), (4494, 0.05170876899950191), (4505, 0.05170876899950191), (4592, 0.05170876899950191), (4601, 0.05170876899950191), (4678, 0.05170876899950191), (4683, 0.05170876899950191), (4692, 0.05170876899950191), (4699, 0.05170876899950191), (4702, 0.05170876899950191), (4703, 0.05170876899950191), (4739, 0.05170876899950191), (4750, 0.05170876899950191), (4767, 0.05170876899950191), (4768, 0.05170876899950191), (58, 0.050251890762960605), (189, 0.050251890762960605), (218, 0.050251890762960605), (250, 0.050251890762960605), (261, 0.050251890762960605), (345, 0.050251890762960605), (476, 0.050251890762960605), (496, 0.050251890762960605), (529, 0.050251890762960605), (605, 0.050251890762960605), (715, 0.050251890762960605), (803, 0.050251890762960605), (943, 0.050251890762960605), (964, 0.050251890762960605), (1064, 0.050251890762960605), (1246, 0.050251890762960605), (1259, 0.050251890762960605), (1305, 0.050251890762960605), (1403, 0.050251890762960605), (1479, 0.050251890762960605), (1488, 0.050251890762960605), (1501, 0.050251890762960605), (1520, 0.050251890762960605), (1524, 0.050251890762960605), (1552, 0.050251890762960605), (1675, 0.050251890762960605), (1746, 0.050251890762960605), (1772, 0.050251890762960605), (1788, 0.050251890762960605), (1857, 0.050251890762960605), (1943, 0.050251890762960605), (2172, 0.050251890762960605), (2212, 0.050251890762960605), (2223, 0.050251890762960605), (2227, 0.050251890762960605), (2248, 0.050251890762960605), (2271, 0.050251890762960605), (2290, 0.050251890762960605), (2321, 0.050251890762960605), (2347, 0.050251890762960605), (2391, 0.050251890762960605), (2401, 0.050251890762960605), (2429, 0.050251890762960605), (2456, 0.050251890762960605), (2483, 0.050251890762960605), (2487, 0.050251890762960605), (2494, 0.050251890762960605), (2506, 0.050251890762960605), (2526, 0.050251890762960605), (2577, 0.050251890762960605), (2583, 0.050251890762960605), (2604, 0.050251890762960605), (2637, 0.050251890762960605), (2644, 0.050251890762960605), (2662, 0.050251890762960605), (2804, 0.050251890762960605), (2856, 0.050251890762960605), (2866, 0.050251890762960605), (2899, 0.050251890762960605), (2971, 0.050251890762960605), (3016, 0.050251890762960605), (3026, 0.050251890762960605), (3059, 0.050251890762960605), (3066, 0.050251890762960605), (3192, 0.050251890762960605), (3200, 0.050251890762960605), (3261, 0.050251890762960605), (3265, 0.050251890762960605), (3267, 0.050251890762960605), (3295, 0.050251890762960605), (3325, 0.050251890762960605), (3415, 0.050251890762960605), (3468, 0.050251890762960605), (3547, 0.050251890762960605), (3564, 0.050251890762960605), (3694, 0.050251890762960605), (3724, 0.050251890762960605), (3752, 0.050251890762960605), (3757, 0.050251890762960605), (3812, 0.050251890762960605), (3817, 0.050251890762960605), (3832, 0.050251890762960605), (3847, 0.050251890762960605), (3855, 0.050251890762960605), (3858, 0.050251890762960605), (3922, 0.050251890762960605), (3930, 0.050251890762960605), (3996, 0.050251890762960605), (4005, 0.050251890762960605), (4045, 0.050251890762960605), (4112, 0.050251890762960605), (4129, 0.050251890762960605), (4159, 0.050251890762960605), (4214, 0.050251890762960605), (4217, 0.050251890762960605), (4288, 0.050251890762960605), (4294, 0.050251890762960605), (4358, 0.050251890762960605), (4456, 0.050251890762960605), (4478, 0.050251890762960605), (4525, 0.050251890762960605), (4613, 0.050251890762960605), (4619, 0.050251890762960605), (4632, 0.050251890762960605), (4659, 0.050251890762960605), (4664, 0.050251890762960605), (4677, 0.050251890762960605), (4705, 0.050251890762960605), (4762, 0.050251890762960605), (6, 0.04891159880445184), (179, 0.04891159880445184), (319, 0.04891159880445184), (327, 0.04891159880445184), (355, 0.04891159880445184), (540, 0.04891159880445184), (709, 0.04891159880445184), (733, 0.04891159880445184), (1108, 0.04891159880445184), (1168, 0.04891159880445184), (1309, 0.04891159880445184), (1316, 0.04891159880445184), (1345, 0.04891159880445184), (1346, 0.04891159880445184), (1350, 0.04891159880445184), (1353, 0.04891159880445184), (1380, 0.04891159880445184), (1381, 0.04891159880445184), (1384, 0.04891159880445184), (1413, 0.04891159880445184), (1434, 0.04891159880445184), (1481, 0.04891159880445184), (1487, 0.04891159880445184), (1532, 0.04891159880445184), (1548, 0.04891159880445184), (1598, 0.04891159880445184), (1621, 0.04891159880445184), (1623, 0.04891159880445184), (1667, 0.04891159880445184), (1771, 0.04891159880445184), (1838, 0.04891159880445184), (1860, 0.04891159880445184), (1957, 0.04891159880445184), (1961, 0.04891159880445184), (2009, 0.04891159880445184), (2035, 0.04891159880445184), (2058, 0.04891159880445184), (2110, 0.04891159880445184), (2125, 0.04891159880445184), (2137, 0.04891159880445184), (2140, 0.04891159880445184), (2164, 0.04891159880445184), (2199, 0.04891159880445184), (2215, 0.04891159880445184), (2244, 0.04891159880445184), (2245, 0.04891159880445184), (2254, 0.04891159880445184), (2266, 0.04891159880445184), (2284, 0.04891159880445184), (2345, 0.04891159880445184), (2445, 0.04891159880445184), (2452, 0.04891159880445184), (2453, 0.04891159880445184), (2714, 0.04891159880445184), (2722, 0.04891159880445184), (2772, 0.04891159880445184), (2816, 0.04891159880445184), (2843, 0.04891159880445184), (2844, 0.04891159880445184), (2857, 0.04891159880445184), (2875, 0.04891159880445184), (2889, 0.04891159880445184), (2890, 0.04891159880445184), (2943, 0.04891159880445184), (2980, 0.04891159880445184), (2985, 0.04891159880445184), (3028, 0.04891159880445184), (3047, 0.04891159880445184), (3105, 0.04891159880445184), (3157, 0.04891159880445184), (3167, 0.04891159880445184), (3191, 0.04891159880445184), (3206, 0.04891159880445184), (3241, 0.04891159880445184), (3254, 0.04891159880445184), (3269, 0.04891159880445184), (3272, 0.04891159880445184), (3279, 0.04891159880445184), (3310, 0.04891159880445184), (3315, 0.04891159880445184), (3329, 0.04891159880445184), (3344, 0.04891159880445184), (3379, 0.04891159880445184), (3397, 0.04891159880445184), (3419, 0.04891159880445184), (3422, 0.04891159880445184), (3491, 0.04891159880445184), (3572, 0.04891159880445184), (3577, 0.04891159880445184), (3582, 0.04891159880445184), (3609, 0.04891159880445184), (3623, 0.04891159880445184), (3627, 0.04891159880445184), (3650, 0.04891159880445184), (3716, 0.04891159880445184), (3818, 0.04891159880445184), (3936, 0.04891159880445184), (3950, 0.04891159880445184), (3982, 0.04891159880445184), (4017, 0.04891159880445184), (4031, 0.04891159880445184), (4082, 0.04891159880445184), (4092, 0.04891159880445184), (4094, 0.04891159880445184), (4109, 0.04891159880445184), (4121, 0.04891159880445184), (4164, 0.04891159880445184), (4183, 0.04891159880445184), (4216, 0.04891159880445184), (4246, 0.04891159880445184), (4272, 0.04891159880445184), (4283, 0.04891159880445184), (4333, 0.04891159880445184), (4345, 0.04891159880445184), (4365, 0.04891159880445184), (4404, 0.04891159880445184), (4432, 0.04891159880445184), (4442, 0.04891159880445184), (4444, 0.04891159880445184), (4470, 0.04891159880445184), (4621, 0.04891159880445184), (4727, 0.04891159880445184), (4732, 0.04891159880445184), (4753, 0.04891159880445184), (4770, 0.04891159880445184), (4789, 0.04891159880445184), (37, 0.04767312946227961), (214, 0.04767312946227961), (216, 0.04767312946227961), (226, 0.04767312946227961), (277, 0.04767312946227961), (287, 0.04767312946227961), (298, 0.04767312946227961), (372, 0.04767312946227961), (387, 0.04767312946227961), (398, 0.04767312946227961), (437, 0.04767312946227961), (438, 0.04767312946227961), (475, 0.04767312946227961), (497, 0.04767312946227961), (523, 0.04767312946227961), (537, 0.04767312946227961), (560, 0.04767312946227961), (635, 0.04767312946227961), (641, 0.04767312946227961), (651, 0.04767312946227961), (663, 0.04767312946227961), (666, 0.04767312946227961), (669, 0.04767312946227961), (736, 0.04767312946227961), (748, 0.04767312946227961), (757, 0.04767312946227961), (773, 0.04767312946227961), (797, 0.04767312946227961), (853, 0.04767312946227961), (869, 0.04767312946227961), (891, 0.04767312946227961), (912, 0.04767312946227961), (1002, 0.04767312946227961), (1015, 0.04767312946227961), (1037, 0.04767312946227961), (1066, 0.04767312946227961), (1113, 0.04767312946227961), (1161, 0.04767312946227961), (1206, 0.04767312946227961), (1235, 0.04767312946227961), (1263, 0.04767312946227961), (1272, 0.04767312946227961), (1325, 0.04767312946227961), (1349, 0.04767312946227961), (1386, 0.04767312946227961), (1397, 0.04767312946227961), (1409, 0.04767312946227961), (1426, 0.04767312946227961), (1455, 0.04767312946227961), (1499, 0.04767312946227961), (1502, 0.04767312946227961), (1509, 0.04767312946227961), (1525, 0.04767312946227961), (1572, 0.04767312946227961), (1619, 0.04767312946227961), (1648, 0.04767312946227961), (1655, 0.04767312946227961), (1681, 0.04767312946227961), (1691, 0.04767312946227961), (1693, 0.04767312946227961), (1747, 0.04767312946227961), (1762, 0.04767312946227961), (1810, 0.04767312946227961), (1815, 0.04767312946227961), (1868, 0.04767312946227961), (1893, 0.04767312946227961), (1908, 0.04767312946227961), (1910, 0.04767312946227961), (1931, 0.04767312946227961), (2031, 0.04767312946227961), (2049, 0.04767312946227961), (2057, 0.04767312946227961), (2075, 0.04767312946227961), (2082, 0.04767312946227961), (2131, 0.04767312946227961), (2153, 0.04767312946227961), (2161, 0.04767312946227961), (2216, 0.04767312946227961), (2219, 0.04767312946227961), (2274, 0.04767312946227961), (2297, 0.04767312946227961), (2305, 0.04767312946227961), (2331, 0.04767312946227961), (2344, 0.04767312946227961), (2419, 0.04767312946227961), (2425, 0.04767312946227961), (2472, 0.04767312946227961), (2512, 0.04767312946227961), (2520, 0.04767312946227961), (2530, 0.04767312946227961), (2580, 0.04767312946227961), (2588, 0.04767312946227961), (2599, 0.04767312946227961), (2656, 0.04767312946227961), (2673, 0.04767312946227961), (2686, 0.04767312946227961), (2706, 0.04767312946227961), (2813, 0.04767312946227961), (2814, 0.04767312946227961), (2919, 0.04767312946227961), (2962, 0.04767312946227961), (2968, 0.04767312946227961), (2975, 0.04767312946227961), (2990, 0.04767312946227961), (3005, 0.04767312946227961), (3065, 0.04767312946227961), (3070, 0.04767312946227961), (3095, 0.04767312946227961), (3097, 0.04767312946227961), (3101, 0.04767312946227961), (3102, 0.04767312946227961), (3110, 0.04767312946227961), (3111, 0.04767312946227961), (3152, 0.04767312946227961), (3212, 0.04767312946227961), (3217, 0.04767312946227961), (3222, 0.04767312946227961), (3229, 0.04767312946227961), (3232, 0.04767312946227961), (3258, 0.04767312946227961), (3274, 0.04767312946227961), (3278, 0.04767312946227961), (3307, 0.04767312946227961), (3321, 0.04767312946227961), (3340, 0.04767312946227961), (3367, 0.04767312946227961), (3398, 0.04767312946227961), (3403, 0.04767312946227961), (3408, 0.04767312946227961), (3436, 0.04767312946227961), (3469, 0.04767312946227961), (3488, 0.04767312946227961), (3505, 0.04767312946227961), (3529, 0.04767312946227961), (3539, 0.04767312946227961), (3551, 0.04767312946227961), (3554, 0.04767312946227961), (3561, 0.04767312946227961), (3562, 0.04767312946227961), (3585, 0.04767312946227961), (3601, 0.04767312946227961), (3641, 0.04767312946227961), (3645, 0.04767312946227961), (3656, 0.04767312946227961), (3676, 0.04767312946227961), (3680, 0.04767312946227961), (3681, 0.04767312946227961), (3725, 0.04767312946227961), (3733, 0.04767312946227961), (3740, 0.04767312946227961), (3797, 0.04767312946227961), (3801, 0.04767312946227961), (3814, 0.04767312946227961), (3829, 0.04767312946227961), (3831, 0.04767312946227961), (3835, 0.04767312946227961), (3856, 0.04767312946227961), (3898, 0.04767312946227961), (3954, 0.04767312946227961), (3955, 0.04767312946227961), (4041, 0.04767312946227961), (4074, 0.04767312946227961), (4083, 0.04767312946227961), (4101, 0.04767312946227961), (4126, 0.04767312946227961), (4137, 0.04767312946227961), (4153, 0.04767312946227961), (4185, 0.04767312946227961), (4195, 0.04767312946227961), (4224, 0.04767312946227961), (4244, 0.04767312946227961), (4251, 0.04767312946227961), (4343, 0.04767312946227961), (4346, 0.04767312946227961), (4355, 0.04767312946227961), (4406, 0.04767312946227961), (4407, 0.04767312946227961), (4412, 0.04767312946227961), (4445, 0.04767312946227961), (4474, 0.04767312946227961), (4481, 0.04767312946227961), (4520, 0.04767312946227961), (4535, 0.04767312946227961), (4643, 0.04767312946227961), (4680, 0.04767312946227961), (4747, 0.04767312946227961), (4782, 0.04767312946227961), (4787, 0.04767312946227961), (35, 0.04652421051992354), (67, 0.04652421051992354), (107, 0.04652421051992354), (153, 0.04652421051992354), (209, 0.04652421051992354), (259, 0.04652421051992354), (274, 0.04652421051992354), (382, 0.04652421051992354), (390, 0.04652421051992354), (478, 0.04652421051992354), (526, 0.04652421051992354), (533, 0.04652421051992354), (551, 0.04652421051992354), (573, 0.04652421051992354), (594, 0.04652421051992354), (601, 0.04652421051992354), (602, 0.04652421051992354), (612, 0.04652421051992354), (655, 0.04652421051992354), (699, 0.04652421051992354), (804, 0.04652421051992354), (841, 0.04652421051992354), (856, 0.04652421051992354), (860, 0.04652421051992354), (863, 0.04652421051992354), (880, 0.04652421051992354), (882, 0.04652421051992354), (893, 0.04652421051992354), (900, 0.04652421051992354), (928, 0.04652421051992354), (945, 0.04652421051992354), (954, 0.04652421051992354), (1020, 0.04652421051992354), (1096, 0.04652421051992354), (1118, 0.04652421051992354), (1143, 0.04652421051992354), (1162, 0.04652421051992354), (1172, 0.04652421051992354), (1219, 0.04652421051992354), (1227, 0.04652421051992354), (1283, 0.04652421051992354), (1302, 0.04652421051992354), (1330, 0.04652421051992354), (1336, 0.04652421051992354), (1347, 0.04652421051992354), (1348, 0.04652421051992354), (1362, 0.04652421051992354), (1370, 0.04652421051992354), (1377, 0.04652421051992354), (1391, 0.04652421051992354), (1437, 0.04652421051992354), (1447, 0.04652421051992354), (1451, 0.04652421051992354), (1476, 0.04652421051992354), (1492, 0.04652421051992354), (1516, 0.04652421051992354), (1519, 0.04652421051992354), (1527, 0.04652421051992354), (1530, 0.04652421051992354), (1571, 0.04652421051992354), (1599, 0.04652421051992354), (1604, 0.04652421051992354), (1627, 0.04652421051992354), (1633, 0.04652421051992354), (1659, 0.04652421051992354), (1682, 0.04652421051992354), (1702, 0.04652421051992354), (1726, 0.04652421051992354), (1729, 0.04652421051992354), (1738, 0.04652421051992354), (1742, 0.04652421051992354), (1748, 0.04652421051992354), (1769, 0.04652421051992354), (1776, 0.04652421051992354), (1812, 0.04652421051992354), (1866, 0.04652421051992354), (1869, 0.04652421051992354), (1903, 0.04652421051992354), (1920, 0.04652421051992354), (1927, 0.04652421051992354), (1929, 0.04652421051992354), (1930, 0.04652421051992354), (1935, 0.04652421051992354), (1955, 0.04652421051992354), (1958, 0.04652421051992354), (1973, 0.04652421051992354), (2021, 0.04652421051992354), (2042, 0.04652421051992354), (2072, 0.04652421051992354), (2073, 0.04652421051992354), (2094, 0.04652421051992354), (2100, 0.04652421051992354), (2141, 0.04652421051992354), (2175, 0.04652421051992354), (2246, 0.04652421051992354), (2276, 0.04652421051992354), (2281, 0.04652421051992354), (2282, 0.04652421051992354), (2283, 0.04652421051992354), (2287, 0.04652421051992354), (2288, 0.04652421051992354), (2289, 0.04652421051992354), (2307, 0.04652421051992354), (2317, 0.04652421051992354), (2328, 0.04652421051992354), (2343, 0.04652421051992354), (2353, 0.04652421051992354), (2383, 0.04652421051992354), (2386, 0.04652421051992354), (2389, 0.04652421051992354), (2393, 0.04652421051992354), (2408, 0.04652421051992354), (2423, 0.04652421051992354), (2439, 0.04652421051992354), (2467, 0.04652421051992354), (2478, 0.04652421051992354), (2491, 0.04652421051992354), (2532, 0.04652421051992354), (2581, 0.04652421051992354), (2582, 0.04652421051992354), (2587, 0.04652421051992354), (2608, 0.04652421051992354), (2620, 0.04652421051992354), (2650, 0.04652421051992354), (2697, 0.04652421051992354), (2717, 0.04652421051992354), (2724, 0.04652421051992354), (2733, 0.04652421051992354), (2750, 0.04652421051992354), (2752, 0.04652421051992354), (2769, 0.04652421051992354), (2788, 0.04652421051992354), (2800, 0.04652421051992354), (2812, 0.04652421051992354), (2822, 0.04652421051992354), (2849, 0.04652421051992354), (2853, 0.04652421051992354), (2870, 0.04652421051992354), (2879, 0.04652421051992354), (2920, 0.04652421051992354), (2942, 0.04652421051992354), (2948, 0.04652421051992354), (2982, 0.04652421051992354), (3010, 0.04652421051992354), (3011, 0.04652421051992354), (3030, 0.04652421051992354), (3034, 0.04652421051992354), (3039, 0.04652421051992354), (3071, 0.04652421051992354), (3098, 0.04652421051992354), (3118, 0.04652421051992354), (3122, 0.04652421051992354), (3128, 0.04652421051992354), (3148, 0.04652421051992354), (3153, 0.04652421051992354), (3161, 0.04652421051992354), (3169, 0.04652421051992354), (3202, 0.04652421051992354), (3242, 0.04652421051992354), (3277, 0.04652421051992354), (3341, 0.04652421051992354), (3347, 0.04652421051992354), (3426, 0.04652421051992354), (3451, 0.04652421051992354), (3457, 0.04652421051992354), (3465, 0.04652421051992354), (3549, 0.04652421051992354), (3553, 0.04652421051992354), (3565, 0.04652421051992354), (3567, 0.04652421051992354), (3570, 0.04652421051992354), (3617, 0.04652421051992354), (3618, 0.04652421051992354), (3629, 0.04652421051992354), (3636, 0.04652421051992354), (3638, 0.04652421051992354), (3640, 0.04652421051992354), (3651, 0.04652421051992354), (3672, 0.04652421051992354), (3693, 0.04652421051992354), (3699, 0.04652421051992354), (3719, 0.04652421051992354), (3744, 0.04652421051992354), (3745, 0.04652421051992354), (3767, 0.04652421051992354), (3782, 0.04652421051992354), (3783, 0.04652421051992354), (3799, 0.04652421051992354), (3805, 0.04652421051992354), (3892, 0.04652421051992354), (3899, 0.04652421051992354), (3927, 0.04652421051992354), (3942, 0.04652421051992354), (3958, 0.04652421051992354), (3975, 0.04652421051992354), (3998, 0.04652421051992354), (3999, 0.04652421051992354), (4013, 0.04652421051992354), (4052, 0.04652421051992354), (4088, 0.04652421051992354), (4098, 0.04652421051992354), (4115, 0.04652421051992354), (4163, 0.04652421051992354), (4192, 0.04652421051992354), (4218, 0.04652421051992354), (4228, 0.04652421051992354), (4231, 0.04652421051992354), (4234, 0.04652421051992354), (4284, 0.04652421051992354), (4349, 0.04652421051992354), (4351, 0.04652421051992354), (4359, 0.04652421051992354), (4371, 0.04652421051992354), (4380, 0.04652421051992354), (4390, 0.04652421051992354), (4425, 0.04652421051992354), (4427, 0.04652421051992354), (4438, 0.04652421051992354), (4443, 0.04652421051992354), (4576, 0.04652421051992354), (4577, 0.04652421051992354), (4610, 0.04652421051992354), (4651, 0.04652421051992354), (4695, 0.04652421051992354), (4700, 0.04652421051992354), (4720, 0.04652421051992354), (4723, 0.04652421051992354), (4744, 0.04652421051992354), (42, 0.04545454545454545), (52, 0.04545454545454545), (90, 0.04545454545454545), (101, 0.04545454545454545), (164, 0.04545454545454545), (165, 0.04545454545454545), (177, 0.04545454545454545), (204, 0.04545454545454545), (205, 0.04545454545454545), (224, 0.04545454545454545), (230, 0.04545454545454545), (242, 0.04545454545454545), (282, 0.04545454545454545), (307, 0.04545454545454545), (324, 0.04545454545454545), (350, 0.04545454545454545), (367, 0.04545454545454545), (384, 0.04545454545454545), (425, 0.04545454545454545), (432, 0.04545454545454545), (435, 0.04545454545454545), (449, 0.04545454545454545), (516, 0.04545454545454545), (521, 0.04545454545454545), (524, 0.04545454545454545), (546, 0.04545454545454545), (547, 0.04545454545454545), (552, 0.04545454545454545), (554, 0.04545454545454545), (559, 0.04545454545454545), (592, 0.04545454545454545), (664, 0.04545454545454545), (697, 0.04545454545454545), (698, 0.04545454545454545), (723, 0.04545454545454545), (739, 0.04545454545454545), (740, 0.04545454545454545), (765, 0.04545454545454545), (770, 0.04545454545454545), (791, 0.04545454545454545), (821, 0.04545454545454545), (822, 0.04545454545454545), (836, 0.04545454545454545), (839, 0.04545454545454545), (842, 0.04545454545454545), (848, 0.04545454545454545), (864, 0.04545454545454545), (871, 0.04545454545454545), (892, 0.04545454545454545), (898, 0.04545454545454545), (902, 0.04545454545454545), (915, 0.04545454545454545), (926, 0.04545454545454545), (932, 0.04545454545454545), (951, 0.04545454545454545), (985, 0.04545454545454545), (1057, 0.04545454545454545), (1058, 0.04545454545454545), (1059, 0.04545454545454545), (1076, 0.04545454545454545), (1089, 0.04545454545454545), (1091, 0.04545454545454545), (1098, 0.04545454545454545), (1104, 0.04545454545454545), (1110, 0.04545454545454545), (1124, 0.04545454545454545), (1125, 0.04545454545454545), (1164, 0.04545454545454545), (1190, 0.04545454545454545), (1266, 0.04545454545454545), (1291, 0.04545454545454545), (1310, 0.04545454545454545), (1319, 0.04545454545454545), (1337, 0.04545454545454545), (1343, 0.04545454545454545), (1354, 0.04545454545454545), (1375, 0.04545454545454545), (1419, 0.04545454545454545), (1424, 0.04545454545454545), (1442, 0.04545454545454545), (1458, 0.04545454545454545), (1467, 0.04545454545454545), (1477, 0.04545454545454545), (1486, 0.04545454545454545), (1526, 0.04545454545454545), (1537, 0.04545454545454545), (1559, 0.04545454545454545), (1579, 0.04545454545454545), (1584, 0.04545454545454545), (1645, 0.04545454545454545), (1653, 0.04545454545454545), (1661, 0.04545454545454545), (1695, 0.04545454545454545), (1703, 0.04545454545454545), (1712, 0.04545454545454545), (1759, 0.04545454545454545), (1763, 0.04545454545454545), (1765, 0.04545454545454545), (1768, 0.04545454545454545), (1804, 0.04545454545454545), (1819, 0.04545454545454545), (1852, 0.04545454545454545), (1867, 0.04545454545454545), (1890, 0.04545454545454545), (1891, 0.04545454545454545), (1894, 0.04545454545454545), (1982, 0.04545454545454545), (2012, 0.04545454545454545), (2024, 0.04545454545454545), (2027, 0.04545454545454545), (2032, 0.04545454545454545), (2050, 0.04545454545454545), (2109, 0.04545454545454545), (2152, 0.04545454545454545), (2167, 0.04545454545454545), (2177, 0.04545454545454545), (2201, 0.04545454545454545), (2232, 0.04545454545454545), (2247, 0.04545454545454545), (2275, 0.04545454545454545), (2324, 0.04545454545454545), (2333, 0.04545454545454545), (2361, 0.04545454545454545), (2374, 0.04545454545454545), (2400, 0.04545454545454545), (2409, 0.04545454545454545), (2412, 0.04545454545454545), (2434, 0.04545454545454545), (2441, 0.04545454545454545), (2450, 0.04545454545454545), (2537, 0.04545454545454545), (2600, 0.04545454545454545), (2639, 0.04545454545454545), (2665, 0.04545454545454545), (2666, 0.04545454545454545), (2710, 0.04545454545454545), (2739, 0.04545454545454545), (2749, 0.04545454545454545), (2786, 0.04545454545454545), (2799, 0.04545454545454545), (2809, 0.04545454545454545), (2827, 0.04545454545454545), (2838, 0.04545454545454545), (2848, 0.04545454545454545), (2852, 0.04545454545454545), (2855, 0.04545454545454545), (2861, 0.04545454545454545), (2885, 0.04545454545454545), (2912, 0.04545454545454545), (2935, 0.04545454545454545), (2936, 0.04545454545454545), (2992, 0.04545454545454545), (2993, 0.04545454545454545), (3002, 0.04545454545454545), (3007, 0.04545454545454545), (3062, 0.04545454545454545), (3090, 0.04545454545454545), (3106, 0.04545454545454545), (3156, 0.04545454545454545), (3201, 0.04545454545454545), (3247, 0.04545454545454545), (3260, 0.04545454545454545), (3301, 0.04545454545454545), (3349, 0.04545454545454545), (3364, 0.04545454545454545), (3365, 0.04545454545454545), (3401, 0.04545454545454545), (3438, 0.04545454545454545), (3447, 0.04545454545454545), (3496, 0.04545454545454545), (3499, 0.04545454545454545), (3512, 0.04545454545454545), (3540, 0.04545454545454545), (3568, 0.04545454545454545), (3579, 0.04545454545454545), (3592, 0.04545454545454545), (3595, 0.04545454545454545), (3606, 0.04545454545454545), (3611, 0.04545454545454545), (3621, 0.04545454545454545), (3653, 0.04545454545454545), (3654, 0.04545454545454545), (3657, 0.04545454545454545), (3690, 0.04545454545454545), (3703, 0.04545454545454545), (3743, 0.04545454545454545), (3746, 0.04545454545454545), (3748, 0.04545454545454545), (3758, 0.04545454545454545), (3769, 0.04545454545454545), (3802, 0.04545454545454545), (3819, 0.04545454545454545), (3867, 0.04545454545454545), (3872, 0.04545454545454545), (3874, 0.04545454545454545), (3889, 0.04545454545454545), (3905, 0.04545454545454545), (3923, 0.04545454545454545), (3931, 0.04545454545454545), (3956, 0.04545454545454545), (3981, 0.04545454545454545), (3983, 0.04545454545454545), (3985, 0.04545454545454545), (3989, 0.04545454545454545), (4008, 0.04545454545454545), (4015, 0.04545454545454545), (4033, 0.04545454545454545), (4079, 0.04545454545454545), (4087, 0.04545454545454545), (4108, 0.04545454545454545), (4130, 0.04545454545454545), (4201, 0.04545454545454545), (4264, 0.04545454545454545), (4282, 0.04545454545454545), (4286, 0.04545454545454545), (4295, 0.04545454545454545), (4303, 0.04545454545454545), (4308, 0.04545454545454545), (4325, 0.04545454545454545), (4331, 0.04545454545454545), (4335, 0.04545454545454545), (4336, 0.04545454545454545), (4356, 0.04545454545454545), (4382, 0.04545454545454545), (4434, 0.04545454545454545), (4473, 0.04545454545454545), (4518, 0.04545454545454545), (4565, 0.04545454545454545), (4587, 0.04545454545454545), (4588, 0.04545454545454545), (4620, 0.04545454545454545), (4636, 0.04545454545454545), (4719, 0.04545454545454545), (4802, 0.04545454545454545), (2, 0.044455422447438706), (60, 0.044455422447438706), (111, 0.044455422447438706), (112, 0.044455422447438706), (197, 0.044455422447438706), (202, 0.044455422447438706), (207, 0.044455422447438706), (228, 0.044455422447438706), (229, 0.044455422447438706), (240, 0.044455422447438706), (296, 0.044455422447438706), (316, 0.044455422447438706), (322, 0.044455422447438706), (414, 0.044455422447438706), (429, 0.044455422447438706), (433, 0.044455422447438706), (440, 0.044455422447438706), (446, 0.044455422447438706), (450, 0.044455422447438706), (453, 0.044455422447438706), (470, 0.044455422447438706), (484, 0.044455422447438706), (568, 0.044455422447438706), (570, 0.044455422447438706), (583, 0.044455422447438706), (585, 0.044455422447438706), (589, 0.044455422447438706), (597, 0.044455422447438706), (598, 0.044455422447438706), (613, 0.044455422447438706), (633, 0.044455422447438706), (648, 0.044455422447438706), (652, 0.044455422447438706), (671, 0.044455422447438706), (676, 0.044455422447438706), (749, 0.044455422447438706), (775, 0.044455422447438706), (789, 0.044455422447438706), (805, 0.044455422447438706), (824, 0.044455422447438706), (874, 0.044455422447438706), (877, 0.044455422447438706), (899, 0.044455422447438706), (901, 0.044455422447438706), (937, 0.044455422447438706), (947, 0.044455422447438706), (955, 0.044455422447438706), (963, 0.044455422447438706), (984, 0.044455422447438706), (1004, 0.044455422447438706), (1013, 0.044455422447438706), (1025, 0.044455422447438706), (1026, 0.044455422447438706), (1041, 0.044455422447438706), (1045, 0.044455422447438706), (1090, 0.044455422447438706), (1095, 0.044455422447438706), (1132, 0.044455422447438706), (1133, 0.044455422447438706), (1214, 0.044455422447438706), (1233, 0.044455422447438706), (1251, 0.044455422447438706), (1261, 0.044455422447438706), (1265, 0.044455422447438706), (1275, 0.044455422447438706), (1294, 0.044455422447438706), (1299, 0.044455422447438706), (1318, 0.044455422447438706), (1329, 0.044455422447438706), (1331, 0.044455422447438706), (1366, 0.044455422447438706), (1369, 0.044455422447438706), (1387, 0.044455422447438706), (1407, 0.044455422447438706), (1428, 0.044455422447438706), (1478, 0.044455422447438706), (1491, 0.044455422447438706), (1545, 0.044455422447438706), (1546, 0.044455422447438706), (1565, 0.044455422447438706), (1570, 0.044455422447438706), (1582, 0.044455422447438706), (1636, 0.044455422447438706), (1668, 0.044455422447438706), (1677, 0.044455422447438706), (1710, 0.044455422447438706), (1737, 0.044455422447438706), (1757, 0.044455422447438706), (1811, 0.044455422447438706), (1832, 0.044455422447438706), (1837, 0.044455422447438706), (1841, 0.044455422447438706), (1842, 0.044455422447438706), (1847, 0.044455422447438706), (1858, 0.044455422447438706), (1859, 0.044455422447438706), (1872, 0.044455422447438706), (1881, 0.044455422447438706), (1885, 0.044455422447438706), (1886, 0.044455422447438706), (1915, 0.044455422447438706), (1922, 0.044455422447438706), (1956, 0.044455422447438706), (1964, 0.044455422447438706), (1969, 0.044455422447438706), (1974, 0.044455422447438706), (2007, 0.044455422447438706), (2025, 0.044455422447438706), (2071, 0.044455422447438706), (2074, 0.044455422447438706), (2102, 0.044455422447438706), (2168, 0.044455422447438706), (2210, 0.044455422447438706), (2257, 0.044455422447438706), (2264, 0.044455422447438706), (2293, 0.044455422447438706), (2294, 0.044455422447438706), (2295, 0.044455422447438706), (2323, 0.044455422447438706), (2329, 0.044455422447438706), (2368, 0.044455422447438706), (2372, 0.044455422447438706), (2397, 0.044455422447438706), (2404, 0.044455422447438706), (2407, 0.044455422447438706), (2465, 0.044455422447438706), (2490, 0.044455422447438706), (2499, 0.044455422447438706), (2501, 0.044455422447438706), (2508, 0.044455422447438706), (2540, 0.044455422447438706), (2541, 0.044455422447438706), (2544, 0.044455422447438706), (2552, 0.044455422447438706), (2594, 0.044455422447438706), (2595, 0.044455422447438706), (2625, 0.044455422447438706), (2630, 0.044455422447438706), (2674, 0.044455422447438706), (2675, 0.044455422447438706), (2682, 0.044455422447438706), (2693, 0.044455422447438706), (2701, 0.044455422447438706), (2711, 0.044455422447438706), (2719, 0.044455422447438706), (2743, 0.044455422447438706), (2746, 0.044455422447438706), (2762, 0.044455422447438706), (2766, 0.044455422447438706), (2775, 0.044455422447438706), (2811, 0.044455422447438706), (2820, 0.044455422447438706), (2850, 0.044455422447438706), (2862, 0.044455422447438706), (2880, 0.044455422447438706), (2881, 0.044455422447438706), (2886, 0.044455422447438706), (2887, 0.044455422447438706), (2905, 0.044455422447438706), (2958, 0.044455422447438706), (2969, 0.044455422447438706), (2977, 0.044455422447438706), (2984, 0.044455422447438706), (2996, 0.044455422447438706), (3041, 0.044455422447438706), (3061, 0.044455422447438706), (3181, 0.044455422447438706), (3211, 0.044455422447438706), (3245, 0.044455422447438706), (3311, 0.044455422447438706), (3378, 0.044455422447438706), (3384, 0.044455422447438706), (3385, 0.044455422447438706), (3404, 0.044455422447438706), (3410, 0.044455422447438706), (3411, 0.044455422447438706), (3429, 0.044455422447438706), (3462, 0.044455422447438706), (3514, 0.044455422447438706), (3538, 0.044455422447438706), (3559, 0.044455422447438706), (3566, 0.044455422447438706), (3584, 0.044455422447438706), (3586, 0.044455422447438706), (3588, 0.044455422447438706), (3602, 0.044455422447438706), (3624, 0.044455422447438706), (3689, 0.044455422447438706), (3691, 0.044455422447438706), (3723, 0.044455422447438706), (3763, 0.044455422447438706), (3788, 0.044455422447438706), (3822, 0.044455422447438706), (3828, 0.044455422447438706), (3844, 0.044455422447438706), (3854, 0.044455422447438706), (3866, 0.044455422447438706), (3876, 0.044455422447438706), (3886, 0.044455422447438706), (3901, 0.044455422447438706), (3914, 0.044455422447438706), (3973, 0.044455422447438706), (3986, 0.044455422447438706), (3990, 0.044455422447438706), (4022, 0.044455422447438706), (4030, 0.044455422447438706), (4053, 0.044455422447438706), (4204, 0.044455422447438706), (4225, 0.044455422447438706), (4245, 0.044455422447438706), (4248, 0.044455422447438706), (4310, 0.044455422447438706), (4339, 0.044455422447438706), (4353, 0.044455422447438706), (4364, 0.044455422447438706), (4393, 0.044455422447438706), (4403, 0.044455422447438706), (4420, 0.044455422447438706), (4484, 0.044455422447438706), (4485, 0.044455422447438706), (4529, 0.044455422447438706), (4533, 0.044455422447438706), (4567, 0.044455422447438706), (4572, 0.044455422447438706), (4605, 0.044455422447438706), (4637, 0.044455422447438706), (4648, 0.044455422447438706), (4718, 0.044455422447438706), (4758, 0.044455422447438706), (21, 0.04351941398892446), (27, 0.04351941398892446), (28, 0.04351941398892446), (36, 0.04351941398892446), (69, 0.04351941398892446), (99, 0.04351941398892446), (151, 0.04351941398892446), (172, 0.04351941398892446), (191, 0.04351941398892446), (200, 0.04351941398892446), (235, 0.04351941398892446), (245, 0.04351941398892446), (249, 0.04351941398892446), (276, 0.04351941398892446), (281, 0.04351941398892446), (284, 0.04351941398892446), (332, 0.04351941398892446), (334, 0.04351941398892446), (369, 0.04351941398892446), (379, 0.04351941398892446), (383, 0.04351941398892446), (389, 0.04351941398892446), (392, 0.04351941398892446), (485, 0.04351941398892446), (487, 0.04351941398892446), (548, 0.04351941398892446), (557, 0.04351941398892446), (565, 0.04351941398892446), (574, 0.04351941398892446), (654, 0.04351941398892446), (656, 0.04351941398892446), (703, 0.04351941398892446), (809, 0.04351941398892446), (812, 0.04351941398892446), (840, 0.04351941398892446), (861, 0.04351941398892446), (875, 0.04351941398892446), (909, 0.04351941398892446), (957, 0.04351941398892446), (978, 0.04351941398892446), (1018, 0.04351941398892446), (1027, 0.04351941398892446), (1054, 0.04351941398892446), (1139, 0.04351941398892446), (1210, 0.04351941398892446), (1213, 0.04351941398892446), (1232, 0.04351941398892446), (1279, 0.04351941398892446), (1292, 0.04351941398892446), (1307, 0.04351941398892446), (1335, 0.04351941398892446), (1358, 0.04351941398892446), (1379, 0.04351941398892446), (1421, 0.04351941398892446), (1460, 0.04351941398892446), (1461, 0.04351941398892446), (1472, 0.04351941398892446), (1495, 0.04351941398892446), (1517, 0.04351941398892446), (1539, 0.04351941398892446), (1549, 0.04351941398892446), (1566, 0.04351941398892446), (1568, 0.04351941398892446), (1603, 0.04351941398892446), (1613, 0.04351941398892446), (1638, 0.04351941398892446), (1652, 0.04351941398892446), (1698, 0.04351941398892446), (1705, 0.04351941398892446), (1706, 0.04351941398892446), (1713, 0.04351941398892446), (1736, 0.04351941398892446), (1750, 0.04351941398892446), (1774, 0.04351941398892446), (1827, 0.04351941398892446), (1889, 0.04351941398892446), (1914, 0.04351941398892446), (1917, 0.04351941398892446), (1995, 0.04351941398892446), (2020, 0.04351941398892446), (2054, 0.04351941398892446), (2062, 0.04351941398892446), (2095, 0.04351941398892446), (2115, 0.04351941398892446), (2121, 0.04351941398892446), (2126, 0.04351941398892446), (2186, 0.04351941398892446), (2198, 0.04351941398892446), (2200, 0.04351941398892446), (2235, 0.04351941398892446), (2236, 0.04351941398892446), (2341, 0.04351941398892446), (2373, 0.04351941398892446), (2415, 0.04351941398892446), (2455, 0.04351941398892446), (2458, 0.04351941398892446), (2461, 0.04351941398892446), (2504, 0.04351941398892446), (2516, 0.04351941398892446), (2535, 0.04351941398892446), (2547, 0.04351941398892446), (2550, 0.04351941398892446), (2557, 0.04351941398892446), (2579, 0.04351941398892446), (2615, 0.04351941398892446), (2654, 0.04351941398892446), (2664, 0.04351941398892446), (2671, 0.04351941398892446), (2685, 0.04351941398892446), (2694, 0.04351941398892446), (2716, 0.04351941398892446), (2718, 0.04351941398892446), (2731, 0.04351941398892446), (2751, 0.04351941398892446), (2767, 0.04351941398892446), (2796, 0.04351941398892446), (2819, 0.04351941398892446), (2831, 0.04351941398892446), (2836, 0.04351941398892446), (2839, 0.04351941398892446), (2894, 0.04351941398892446), (2911, 0.04351941398892446), (2950, 0.04351941398892446), (2964, 0.04351941398892446), (2966, 0.04351941398892446), (3017, 0.04351941398892446), (3046, 0.04351941398892446), (3137, 0.04351941398892446), (3138, 0.04351941398892446), (3143, 0.04351941398892446), (3165, 0.04351941398892446), (3219, 0.04351941398892446), (3221, 0.04351941398892446), (3231, 0.04351941398892446), (3244, 0.04351941398892446), (3253, 0.04351941398892446), (3276, 0.04351941398892446), (3298, 0.04351941398892446), (3328, 0.04351941398892446), (3339, 0.04351941398892446), (3343, 0.04351941398892446), (3348, 0.04351941398892446), (3357, 0.04351941398892446), (3374, 0.04351941398892446), (3406, 0.04351941398892446), (3435, 0.04351941398892446), (3445, 0.04351941398892446), (3449, 0.04351941398892446), (3520, 0.04351941398892446), (3522, 0.04351941398892446), (3535, 0.04351941398892446), (3560, 0.04351941398892446), (3571, 0.04351941398892446), (3639, 0.04351941398892446), (3662, 0.04351941398892446), (3712, 0.04351941398892446), (3713, 0.04351941398892446), (3772, 0.04351941398892446), (3815, 0.04351941398892446), (3864, 0.04351941398892446), (3870, 0.04351941398892446), (3887, 0.04351941398892446), (3895, 0.04351941398892446), (3903, 0.04351941398892446), (3920, 0.04351941398892446), (4071, 0.04351941398892446), (4090, 0.04351941398892446), (4104, 0.04351941398892446), (4135, 0.04351941398892446), (4165, 0.04351941398892446), (4175, 0.04351941398892446), (4238, 0.04351941398892446), (4263, 0.04351941398892446), (4373, 0.04351941398892446), (4376, 0.04351941398892446), (4423, 0.04351941398892446), (4497, 0.04351941398892446), (4532, 0.04351941398892446), (4724, 0.04351941398892446), (4726, 0.04351941398892446), (4772, 0.04351941398892446), (110, 0.04264014327112209), (185, 0.04264014327112209), (267, 0.04264014327112209), (289, 0.04264014327112209), (290, 0.04264014327112209), (301, 0.04264014327112209), (349, 0.04264014327112209), (363, 0.04264014327112209), (371, 0.04264014327112209), (419, 0.04264014327112209), (424, 0.04264014327112209), (426, 0.04264014327112209), (472, 0.04264014327112209), (480, 0.04264014327112209), (482, 0.04264014327112209), (494, 0.04264014327112209), (505, 0.04264014327112209), (506, 0.04264014327112209), (710, 0.04264014327112209), (712, 0.04264014327112209), (719, 0.04264014327112209), (728, 0.04264014327112209), (738, 0.04264014327112209), (785, 0.04264014327112209), (802, 0.04264014327112209), (868, 0.04264014327112209), (925, 0.04264014327112209), (976, 0.04264014327112209), (1000, 0.04264014327112209), (1050, 0.04264014327112209), (1073, 0.04264014327112209), (1080, 0.04264014327112209), (1085, 0.04264014327112209), (1101, 0.04264014327112209), (1117, 0.04264014327112209), (1142, 0.04264014327112209), (1144, 0.04264014327112209), (1150, 0.04264014327112209), (1176, 0.04264014327112209), (1239, 0.04264014327112209), (1293, 0.04264014327112209), (1333, 0.04264014327112209), (1367, 0.04264014327112209), (1373, 0.04264014327112209), (1393, 0.04264014327112209), (1399, 0.04264014327112209), (1405, 0.04264014327112209), (1432, 0.04264014327112209), (1462, 0.04264014327112209), (1511, 0.04264014327112209), (1625, 0.04264014327112209), (1634, 0.04264014327112209), (1642, 0.04264014327112209), (1657, 0.04264014327112209), (1671, 0.04264014327112209), (1818, 0.04264014327112209), (1840, 0.04264014327112209), (1874, 0.04264014327112209), (1895, 0.04264014327112209), (1940, 0.04264014327112209), (1946, 0.04264014327112209), (1999, 0.04264014327112209), (2013, 0.04264014327112209), (2014, 0.04264014327112209), (2111, 0.04264014327112209), (2156, 0.04264014327112209), (2160, 0.04264014327112209), (2163, 0.04264014327112209), (2224, 0.04264014327112209), (2241, 0.04264014327112209), (2296, 0.04264014327112209), (2310, 0.04264014327112209), (2314, 0.04264014327112209), (2335, 0.04264014327112209), (2417, 0.04264014327112209), (2422, 0.04264014327112209), (2433, 0.04264014327112209), (2475, 0.04264014327112209), (2517, 0.04264014327112209), (2527, 0.04264014327112209), (2564, 0.04264014327112209), (2641, 0.04264014327112209), (2651, 0.04264014327112209), (2691, 0.04264014327112209), (2696, 0.04264014327112209), (2732, 0.04264014327112209), (2753, 0.04264014327112209), (2774, 0.04264014327112209), (2798, 0.04264014327112209), (2815, 0.04264014327112209), (2817, 0.04264014327112209), (2865, 0.04264014327112209), (2949, 0.04264014327112209), (2951, 0.04264014327112209), (3057, 0.04264014327112209), (3100, 0.04264014327112209), (3131, 0.04264014327112209), (3184, 0.04264014327112209), (3262, 0.04264014327112209), (3303, 0.04264014327112209), (3358, 0.04264014327112209), (3375, 0.04264014327112209), (3387, 0.04264014327112209), (3388, 0.04264014327112209), (3391, 0.04264014327112209), (3440, 0.04264014327112209), (3450, 0.04264014327112209), (3482, 0.04264014327112209), (3526, 0.04264014327112209), (3576, 0.04264014327112209), (3581, 0.04264014327112209), (3594, 0.04264014327112209), (3614, 0.04264014327112209), (3619, 0.04264014327112209), (3673, 0.04264014327112209), (3709, 0.04264014327112209), (3739, 0.04264014327112209), (3749, 0.04264014327112209), (3821, 0.04264014327112209), (3918, 0.04264014327112209), (4003, 0.04264014327112209), (4080, 0.04264014327112209), (4103, 0.04264014327112209), (4152, 0.04264014327112209), (4271, 0.04264014327112209), (4292, 0.04264014327112209), (4326, 0.04264014327112209), (4332, 0.04264014327112209), (4394, 0.04264014327112209), (4594, 0.04264014327112209), (4687, 0.04264014327112209), (4800, 0.04264014327112209), (38, 0.04181210050035454), (39, 0.04181210050035454), (41, 0.04181210050035454), (64, 0.04181210050035454), (77, 0.04181210050035454), (97, 0.04181210050035454), (102, 0.04181210050035454), (156, 0.04181210050035454), (196, 0.04181210050035454), (212, 0.04181210050035454), (246, 0.04181210050035454), (295, 0.04181210050035454), (300, 0.04181210050035454), (366, 0.04181210050035454), (404, 0.04181210050035454), (409, 0.04181210050035454), (412, 0.04181210050035454), (535, 0.04181210050035454), (665, 0.04181210050035454), (667, 0.04181210050035454), (768, 0.04181210050035454), (784, 0.04181210050035454), (935, 0.04181210050035454), (1048, 0.04181210050035454), (1112, 0.04181210050035454), (1128, 0.04181210050035454), (1226, 0.04181210050035454), (1230, 0.04181210050035454), (1270, 0.04181210050035454), (1298, 0.04181210050035454), (1317, 0.04181210050035454), (1332, 0.04181210050035454), (1365, 0.04181210050035454), (1400, 0.04181210050035454), (1408, 0.04181210050035454), (1441, 0.04181210050035454), (1446, 0.04181210050035454), (1482, 0.04181210050035454), (1497, 0.04181210050035454), (1513, 0.04181210050035454), (1608, 0.04181210050035454), (1622, 0.04181210050035454), (1686, 0.04181210050035454), (1754, 0.04181210050035454), (1795, 0.04181210050035454), (1814, 0.04181210050035454), (1821, 0.04181210050035454), (1939, 0.04181210050035454), (1948, 0.04181210050035454), (1965, 0.04181210050035454), (1971, 0.04181210050035454), (1994, 0.04181210050035454), (2019, 0.04181210050035454), (2046, 0.04181210050035454), (2077, 0.04181210050035454), (2084, 0.04181210050035454), (2099, 0.04181210050035454), (2103, 0.04181210050035454), (2104, 0.04181210050035454), (2133, 0.04181210050035454), (2173, 0.04181210050035454), (2178, 0.04181210050035454), (2213, 0.04181210050035454), (2229, 0.04181210050035454), (2238, 0.04181210050035454), (2416, 0.04181210050035454), (2444, 0.04181210050035454), (2515, 0.04181210050035454), (2572, 0.04181210050035454), (2606, 0.04181210050035454), (2616, 0.04181210050035454), (2659, 0.04181210050035454), (2678, 0.04181210050035454), (2680, 0.04181210050035454), (2756, 0.04181210050035454), (2759, 0.04181210050035454), (2860, 0.04181210050035454), (2946, 0.04181210050035454), (2986, 0.04181210050035454), (2989, 0.04181210050035454), (3055, 0.04181210050035454), (3063, 0.04181210050035454), (3283, 0.04181210050035454), (3288, 0.04181210050035454), (3309, 0.04181210050035454), (3313, 0.04181210050035454), (3382, 0.04181210050035454), (3407, 0.04181210050035454), (3424, 0.04181210050035454), (3425, 0.04181210050035454), (3428, 0.04181210050035454), (3466, 0.04181210050035454), (3467, 0.04181210050035454), (3470, 0.04181210050035454), (3472, 0.04181210050035454), (3511, 0.04181210050035454), (3558, 0.04181210050035454), (3605, 0.04181210050035454), (3773, 0.04181210050035454), (3776, 0.04181210050035454), (3934, 0.04181210050035454), (3974, 0.04181210050035454), (4026, 0.04181210050035454), (4076, 0.04181210050035454), (4223, 0.04181210050035454), (4367, 0.04181210050035454), (4465, 0.04181210050035454), (4469, 0.04181210050035454), (4582, 0.04181210050035454), (4626, 0.04181210050035454), (4686, 0.04181210050035454), (4696, 0.04181210050035454), (4798, 0.04181210050035454), (72, 0.041030496993110906), (84, 0.041030496993110906), (93, 0.041030496993110906), (108, 0.041030496993110906), (130, 0.041030496993110906), (145, 0.041030496993110906), (182, 0.041030496993110906), (236, 0.041030496993110906), (269, 0.041030496993110906), (331, 0.041030496993110906), (342, 0.041030496993110906), (491, 0.041030496993110906), (643, 0.041030496993110906), (795, 0.041030496993110906), (813, 0.041030496993110906), (889, 0.041030496993110906), (962, 0.041030496993110906), (971, 0.041030496993110906), (972, 0.041030496993110906), (999, 0.041030496993110906), (1106, 0.041030496993110906), (1146, 0.041030496993110906), (1201, 0.041030496993110906), (1216, 0.041030496993110906), (1225, 0.041030496993110906), (1483, 0.041030496993110906), (1563, 0.041030496993110906), (1587, 0.041030496993110906), (1605, 0.041030496993110906), (1612, 0.041030496993110906), (1923, 0.041030496993110906), (1960, 0.041030496993110906), (2004, 0.041030496993110906), (2043, 0.041030496993110906), (2066, 0.041030496993110906), (2096, 0.041030496993110906), (2446, 0.041030496993110906), (2459, 0.041030496993110906), (2476, 0.041030496993110906), (2479, 0.041030496993110906), (2613, 0.041030496993110906), (2624, 0.041030496993110906), (2638, 0.041030496993110906), (2725, 0.041030496993110906), (2807, 0.041030496993110906), (2825, 0.041030496993110906), (2904, 0.041030496993110906), (2914, 0.041030496993110906), (2916, 0.041030496993110906), (2925, 0.041030496993110906), (3012, 0.041030496993110906), (3019, 0.041030496993110906), (3084, 0.041030496993110906), (3094, 0.041030496993110906), (3133, 0.041030496993110906), (3149, 0.041030496993110906), (3158, 0.041030496993110906), (3189, 0.041030496993110906), (3369, 0.041030496993110906), (3370, 0.041030496993110906), (3399, 0.041030496993110906), (3420, 0.041030496993110906), (3494, 0.041030496993110906), (3543, 0.041030496993110906), (3647, 0.041030496993110906), (3671, 0.041030496993110906), (4167, 0.041030496993110906), (4173, 0.041030496993110906), (4182, 0.041030496993110906), (4260, 0.041030496993110906), (4270, 0.041030496993110906), (4391, 0.041030496993110906), (4441, 0.041030496993110906), (4486, 0.041030496993110906), (4635, 0.041030496993110906), (4661, 0.041030496993110906), (14, 0.04029114820126901), (123, 0.04029114820126901), (126, 0.04029114820126901), (273, 0.04029114820126901), (308, 0.04029114820126901), (380, 0.04029114820126901), (403, 0.04029114820126901), (411, 0.04029114820126901), (500, 0.04029114820126901), (502, 0.04029114820126901), (556, 0.04029114820126901), (673, 0.04029114820126901), (870, 0.04029114820126901), (1065, 0.04029114820126901), (1086, 0.04029114820126901), (1223, 0.04029114820126901), (1286, 0.04029114820126901), (1361, 0.04029114820126901), (1364, 0.04029114820126901), (1454, 0.04029114820126901), (1561, 0.04029114820126901), (1684, 0.04029114820126901), (1719, 0.04029114820126901), (1731, 0.04029114820126901), (1911, 0.04029114820126901), (2022, 0.04029114820126901), (2183, 0.04029114820126901), (2196, 0.04029114820126901), (2371, 0.04029114820126901), (2486, 0.04029114820126901), (2560, 0.04029114820126901), (2565, 0.04029114820126901), (2661, 0.04029114820126901), (2974, 0.04029114820126901), (3027, 0.04029114820126901), (3238, 0.04029114820126901), (3337, 0.04029114820126901), (3352, 0.04029114820126901), (3596, 0.04029114820126901), (3616, 0.04029114820126901), (3741, 0.04029114820126901), (4024, 0.04029114820126901), (4062, 0.04029114820126901), (4084, 0.04029114820126901), (4085, 0.04029114820126901), (4249, 0.04029114820126901), (4512, 0.04029114820126901), (73, 0.039590379123244784), (150, 0.039590379123244784), (800, 0.039590379123244784), (1082, 0.039590379123244784), (1412, 0.039590379123244784), (1626, 0.039590379123244784), (1650, 0.039590379123244784), (1855, 0.039590379123244784), (1877, 0.039590379123244784), (2076, 0.039590379123244784), (2262, 0.039590379123244784), (2349, 0.039590379123244784), (2747, 0.039590379123244784), (2840, 0.039590379123244784), (2953, 0.039590379123244784), (2960, 0.039590379123244784), (3155, 0.039590379123244784), (3175, 0.039590379123244784), (3239, 0.039590379123244784), (3417, 0.039590379123244784), (3473, 0.039590379123244784), (3804, 0.039590379123244784), (3906, 0.039590379123244784), (3937, 0.039590379123244784), (4016, 0.039590379123244784), (4171, 0.039590379123244784), (4340, 0.039590379123244784), (4631, 0.039590379123244784), (18, 0.03892494720807614), (125, 0.03892494720807614), (305, 0.03892494720807614), (566, 0.03892494720807614), (859, 0.03892494720807614), (977, 0.03892494720807614), (1200, 0.03892494720807614), (1745, 0.03892494720807614), (1878, 0.03892494720807614), (2184, 0.03892494720807614), (2442, 0.03892494720807614), (2503, 0.03892494720807614), (3023, 0.03892494720807614), (3170, 0.03892494720807614), (3177, 0.03892494720807614), (3227, 0.03892494720807614), (3289, 0.03892494720807614), (3728, 0.03892494720807614), (3907, 0.03892494720807614), (4095, 0.03892494720807614), (4220, 0.03892494720807614), (4378, 0.03892494720807614), (4454, 0.03892494720807614), (4749, 0.03892494720807614), (254, 0.03829197905337418), (1538, 0.03829197905337418), (1581, 0.03829197905337418), (1583, 0.03829197905337418), (1672, 0.03829197905337418), (1715, 0.03829197905337418), (2561, 0.03829197905337418), (2660, 0.03829197905337418), (2877, 0.03829197905337418), (2884, 0.03829197905337418), (3643, 0.03829197905337418), (3688, 0.03829197905337418), (3731, 0.03829197905337418), (3837, 0.03829197905337418), (4172, 0.03829197905337418), (24, 0.03768891807222045), (855, 0.03768891807222045), (1024, 0.03768891807222045), (1274, 0.03768891807222045), (1296, 0.03768891807222045), (1590, 0.03768891807222045), (1696, 0.03768891807222045), (2016, 0.03768891807222045), (2106, 0.03768891807222045), (2278, 0.03768891807222045), (2399, 0.03768891807222045), (2871, 0.03768891807222045), (3583, 0.03768891807222045), (4206, 0.03768891807222045), (4452, 0.03768891807222045), (1304, 0.037113480951260276), (1363, 0.037113480951260276), (1977, 0.037113480951260276), (2357, 0.037113480951260276), (2787, 0.037113480951260276), (2954, 0.037113480951260276), (3270, 0.037113480951260276), (4010, 0.037113480951260276), (4742, 0.037113480951260276), (642, 0.03656362120635653), (2039, 0.03656362120635653), (3753, 0.03656362120635653), (4174, 0.03656362120635653), (337, 0.036037498507822355), (1564, 0.036037498507822355), (2542, 0.036037498507822355), (2806, 0.036037498507822355), (3178, 0.036037498507822355), (561, 0.03553345272593507), (1404, 0.03553345272593507), (2677, 0.03553345272593507), (599, 0.03504998186163908), (2898, 0.03504998186163908), (3390, 0.03504998186163908), (586, 0.0337099931231621), (4701, 0.03289758474798845), (2784, 0.03251280443811775), (4752, 0.03251280443811775), (448, 0.03143473067309657), (1341, 0.03143473067309657), (2782, 0.031098520678556143), (628, 0.030772872744833184), (0, 0.0), (1, 0.0), (4, 0.0), (5, 0.0), (9, 0.0), (10, 0.0), (12, 0.0), (13, 0.0), (15, 0.0), (17, 0.0), (19, 0.0), (20, 0.0), (22, 0.0), (23, 0.0), (30, 0.0), (31, 0.0), (32, 0.0), (34, 0.0), (44, 0.0), (47, 0.0), (48, 0.0), (50, 0.0), (51, 0.0), (53, 0.0), (54, 0.0), (55, 0.0), (56, 0.0), (57, 0.0), (59, 0.0), (61, 0.0), (62, 0.0), (63, 0.0), (68, 0.0), (70, 0.0), (71, 0.0), (74, 0.0), (75, 0.0), (81, 0.0), (83, 0.0), (86, 0.0), (88, 0.0), (89, 0.0), (91, 0.0), (92, 0.0), (94, 0.0), (105, 0.0), (106, 0.0), (115, 0.0), (117, 0.0), (118, 0.0), (120, 0.0), (121, 0.0), (124, 0.0), (129, 0.0), (131, 0.0), (132, 0.0), (133, 0.0), (136, 0.0), (137, 0.0), (138, 0.0), (141, 0.0), (144, 0.0), (146, 0.0), (148, 0.0), (152, 0.0), (155, 0.0), (158, 0.0), (159, 0.0), (160, 0.0), (161, 0.0), (162, 0.0), (168, 0.0), (169, 0.0), (171, 0.0), (173, 0.0), (174, 0.0), (175, 0.0), (178, 0.0), (181, 0.0), (184, 0.0), (187, 0.0), (193, 0.0), (194, 0.0), (195, 0.0), (198, 0.0), (199, 0.0), (206, 0.0), (208, 0.0), (210, 0.0), (211, 0.0), (225, 0.0), (227, 0.0), (231, 0.0), (233, 0.0), (234, 0.0), (238, 0.0), (241, 0.0), (243, 0.0), (251, 0.0), (252, 0.0), (253, 0.0), (255, 0.0), (256, 0.0), (258, 0.0), (260, 0.0), (262, 0.0), (263, 0.0), (265, 0.0), (266, 0.0), (272, 0.0), (285, 0.0), (292, 0.0), (293, 0.0), (294, 0.0), (299, 0.0), (302, 0.0), (303, 0.0), (304, 0.0), (306, 0.0), (309, 0.0), (311, 0.0), (313, 0.0), (315, 0.0), (318, 0.0), (320, 0.0), (321, 0.0), (325, 0.0), (328, 0.0), (329, 0.0), (330, 0.0), (336, 0.0), (338, 0.0), (340, 0.0), (341, 0.0), (343, 0.0), (347, 0.0), (348, 0.0), (352, 0.0), (353, 0.0), (359, 0.0), (361, 0.0), (362, 0.0), (368, 0.0), (373, 0.0), (374, 0.0), (375, 0.0), (381, 0.0), (391, 0.0), (393, 0.0), (394, 0.0), (395, 0.0), (397, 0.0), (399, 0.0), (400, 0.0), (401, 0.0), (413, 0.0), (415, 0.0), (417, 0.0), (418, 0.0), (420, 0.0), (423, 0.0), (427, 0.0), (430, 0.0), (431, 0.0), (436, 0.0), (441, 0.0), (443, 0.0), (445, 0.0), (457, 0.0), (458, 0.0), (459, 0.0), (460, 0.0), (461, 0.0), (465, 0.0), (466, 0.0), (469, 0.0), (471, 0.0), (473, 0.0), (479, 0.0), (481, 0.0), (483, 0.0), (486, 0.0), (488, 0.0), (489, 0.0), (492, 0.0), (495, 0.0), (498, 0.0), (499, 0.0), (501, 0.0), (503, 0.0), (504, 0.0), (507, 0.0), (508, 0.0), (509, 0.0), (514, 0.0), (515, 0.0), (520, 0.0), (522, 0.0), (527, 0.0), (531, 0.0), (532, 0.0), (534, 0.0), (539, 0.0), (541, 0.0), (543, 0.0), (549, 0.0), (550, 0.0), (555, 0.0), (558, 0.0), (563, 0.0), (567, 0.0), (569, 0.0), (572, 0.0), (577, 0.0), (578, 0.0), (579, 0.0), (582, 0.0), (591, 0.0), (595, 0.0), (604, 0.0), (610, 0.0), (614, 0.0), (615, 0.0), (616, 0.0), (618, 0.0), (619, 0.0), (623, 0.0), (624, 0.0), (627, 0.0), (630, 0.0), (631, 0.0), (634, 0.0), (638, 0.0), (639, 0.0), (640, 0.0), (646, 0.0), (649, 0.0), (653, 0.0), (657, 0.0), (661, 0.0), (668, 0.0), (674, 0.0), (675, 0.0), (679, 0.0), (682, 0.0), (686, 0.0), (687, 0.0), (688, 0.0), (689, 0.0), (691, 0.0), (692, 0.0), (700, 0.0), (701, 0.0), (702, 0.0), (704, 0.0), (705, 0.0), (706, 0.0), (707, 0.0), (708, 0.0), (722, 0.0), (725, 0.0), (726, 0.0), (727, 0.0), (730, 0.0), (734, 0.0), (742, 0.0), (744, 0.0), (745, 0.0), (750, 0.0), (751, 0.0), (754, 0.0), (756, 0.0), (760, 0.0), (766, 0.0), (769, 0.0), (778, 0.0), (780, 0.0), (783, 0.0), (786, 0.0), (787, 0.0), (788, 0.0), (790, 0.0), (792, 0.0), (793, 0.0), (796, 0.0), (798, 0.0), (799, 0.0), (810, 0.0), (811, 0.0), (814, 0.0), (816, 0.0), (817, 0.0), (819, 0.0), (820, 0.0), (828, 0.0), (829, 0.0), (831, 0.0), (832, 0.0), (833, 0.0), (835, 0.0), (837, 0.0), (838, 0.0), (843, 0.0), (846, 0.0), (847, 0.0), (854, 0.0), (857, 0.0), (858, 0.0), (885, 0.0), (886, 0.0), (887, 0.0), (888, 0.0), (890, 0.0), (894, 0.0), (895, 0.0), (896, 0.0), (897, 0.0), (903, 0.0), (904, 0.0), (906, 0.0), (907, 0.0), (910, 0.0), (911, 0.0), (913, 0.0), (914, 0.0), (917, 0.0), (923, 0.0), (927, 0.0), (933, 0.0), (934, 0.0), (942, 0.0), (948, 0.0), (949, 0.0), (952, 0.0), (953, 0.0), (956, 0.0), (960, 0.0), (981, 0.0), (986, 0.0), (989, 0.0), (992, 0.0), (997, 0.0), (998, 0.0), (1006, 0.0), (1008, 0.0), (1011, 0.0), (1012, 0.0), (1014, 0.0), (1017, 0.0), (1021, 0.0), (1031, 0.0), (1032, 0.0), (1040, 0.0), (1042, 0.0), (1044, 0.0), (1053, 0.0), (1055, 0.0), (1056, 0.0), (1060, 0.0), (1062, 0.0), (1067, 0.0), (1068, 0.0), (1070, 0.0), (1071, 0.0), (1074, 0.0), (1077, 0.0), (1078, 0.0), (1079, 0.0), (1088, 0.0), (1093, 0.0), (1114, 0.0), (1115, 0.0), (1119, 0.0), (1121, 0.0), (1122, 0.0), (1123, 0.0), (1126, 0.0), (1130, 0.0), (1134, 0.0), (1137, 0.0), (1138, 0.0), (1140, 0.0), (1147, 0.0), (1155, 0.0), (1157, 0.0), (1159, 0.0), (1160, 0.0), (1163, 0.0), (1166, 0.0), (1167, 0.0), (1171, 0.0), (1173, 0.0), (1174, 0.0), (1180, 0.0), (1182, 0.0), (1183, 0.0), (1184, 0.0), (1185, 0.0), (1189, 0.0), (1191, 0.0), (1197, 0.0), (1198, 0.0), (1207, 0.0), (1212, 0.0), (1217, 0.0), (1218, 0.0), (1222, 0.0), (1228, 0.0), (1229, 0.0), (1237, 0.0), (1238, 0.0), (1242, 0.0), (1244, 0.0), (1249, 0.0), (1256, 0.0), (1257, 0.0), (1260, 0.0), (1262, 0.0), (1268, 0.0), (1277, 0.0), (1285, 0.0), (1287, 0.0), (1288, 0.0), (1290, 0.0), (1297, 0.0), (1300, 0.0), (1301, 0.0), (1306, 0.0), (1312, 0.0), (1321, 0.0), (1322, 0.0), (1324, 0.0), (1326, 0.0), (1334, 0.0), (1339, 0.0), (1340, 0.0), (1344, 0.0), (1355, 0.0), (1356, 0.0), (1368, 0.0), (1371, 0.0), (1372, 0.0), (1376, 0.0), (1378, 0.0), (1382, 0.0), (1385, 0.0), (1388, 0.0), (1389, 0.0), (1392, 0.0), (1395, 0.0), (1398, 0.0), (1402, 0.0), (1415, 0.0), (1416, 0.0), (1420, 0.0), (1430, 0.0), (1435, 0.0), (1436, 0.0), (1438, 0.0), (1443, 0.0), (1450, 0.0), (1453, 0.0), (1459, 0.0), (1463, 0.0), (1466, 0.0), (1471, 0.0), (1475, 0.0), (1480, 0.0), (1493, 0.0), (1494, 0.0), (1496, 0.0), (1498, 0.0), (1500, 0.0), (1504, 0.0), (1505, 0.0), (1510, 0.0), (1514, 0.0), (1521, 0.0), (1528, 0.0), (1534, 0.0), (1536, 0.0), (1540, 0.0), (1541, 0.0), (1542, 0.0), (1550, 0.0), (1551, 0.0), (1554, 0.0), (1555, 0.0), (1558, 0.0), (1560, 0.0), (1562, 0.0), (1567, 0.0), (1569, 0.0), (1573, 0.0), (1576, 0.0), (1580, 0.0), (1585, 0.0), (1589, 0.0), (1593, 0.0), (1594, 0.0), (1602, 0.0), (1606, 0.0), (1607, 0.0), (1609, 0.0), (1611, 0.0), (1614, 0.0), (1616, 0.0), (1620, 0.0), (1630, 0.0), (1643, 0.0), (1646, 0.0), (1656, 0.0), (1662, 0.0), (1673, 0.0), (1676, 0.0), (1680, 0.0), (1683, 0.0), (1685, 0.0), (1689, 0.0), (1690, 0.0), (1697, 0.0), (1701, 0.0), (1707, 0.0), (1708, 0.0), (1709, 0.0), (1714, 0.0), (1716, 0.0), (1717, 0.0), (1718, 0.0), (1721, 0.0), (1723, 0.0), (1730, 0.0), (1733, 0.0), (1735, 0.0), (1741, 0.0), (1753, 0.0), (1755, 0.0), (1764, 0.0), (1777, 0.0), (1778, 0.0), (1779, 0.0), (1780, 0.0), (1783, 0.0), (1790, 0.0), (1791, 0.0), (1797, 0.0), (1798, 0.0), (1801, 0.0), (1806, 0.0), (1807, 0.0), (1823, 0.0), (1825, 0.0), (1830, 0.0), (1833, 0.0), (1835, 0.0), (1846, 0.0), (1848, 0.0), (1849, 0.0), (1851, 0.0), (1854, 0.0), (1856, 0.0), (1861, 0.0), (1862, 0.0), (1865, 0.0), (1871, 0.0), (1876, 0.0), (1879, 0.0), (1880, 0.0), (1882, 0.0), (1883, 0.0), (1887, 0.0), (1896, 0.0), (1900, 0.0), (1904, 0.0), (1906, 0.0), (1919, 0.0), (1932, 0.0), (1933, 0.0), (1934, 0.0), (1936, 0.0), (1937, 0.0), (1942, 0.0), (1947, 0.0), (1950, 0.0), (1951, 0.0), (1953, 0.0), (1959, 0.0), (1966, 0.0), (1970, 0.0), (1972, 0.0), (1975, 0.0), (1976, 0.0), (1980, 0.0), (1981, 0.0), (1983, 0.0), (1984, 0.0), (1987, 0.0), (1988, 0.0), (1989, 0.0), (1990, 0.0), (1992, 0.0), (2015, 0.0), (2018, 0.0), (2023, 0.0), (2033, 0.0), (2034, 0.0), (2036, 0.0), (2037, 0.0), (2044, 0.0), (2045, 0.0), (2055, 0.0), (2064, 0.0), (2065, 0.0), (2067, 0.0), (2069, 0.0), (2083, 0.0), (2085, 0.0), (2086, 0.0), (2089, 0.0), (2090, 0.0), (2092, 0.0), (2093, 0.0), (2097, 0.0), (2098, 0.0), (2101, 0.0), (2107, 0.0), (2112, 0.0), (2113, 0.0), (2114, 0.0), (2116, 0.0), (2119, 0.0), (2122, 0.0), (2129, 0.0), (2132, 0.0), (2136, 0.0), (2139, 0.0), (2142, 0.0), (2144, 0.0), (2155, 0.0), (2158, 0.0), (2159, 0.0), (2162, 0.0), (2165, 0.0), (2171, 0.0), (2174, 0.0), (2182, 0.0), (2185, 0.0), (2189, 0.0), (2194, 0.0), (2197, 0.0), (2209, 0.0), (2214, 0.0), (2217, 0.0), (2220, 0.0), (2221, 0.0), (2222, 0.0), (2226, 0.0), (2228, 0.0), (2230, 0.0), (2231, 0.0), (2249, 0.0), (2252, 0.0), (2258, 0.0), (2261, 0.0), (2270, 0.0), (2272, 0.0), (2279, 0.0), (2298, 0.0), (2299, 0.0), (2303, 0.0), (2308, 0.0), (2309, 0.0), (2311, 0.0), (2312, 0.0), (2313, 0.0), (2315, 0.0), (2316, 0.0), (2319, 0.0), (2325, 0.0), (2326, 0.0), (2330, 0.0), (2337, 0.0), (2338, 0.0), (2339, 0.0), (2351, 0.0), (2352, 0.0), (2355, 0.0), (2360, 0.0), (2363, 0.0), (2370, 0.0), (2376, 0.0), (2379, 0.0), (2380, 0.0), (2382, 0.0), (2387, 0.0), (2390, 0.0), (2394, 0.0), (2396, 0.0), (2406, 0.0), (2410, 0.0), (2411, 0.0), (2413, 0.0), (2418, 0.0), (2420, 0.0), (2426, 0.0), (2427, 0.0), (2430, 0.0), (2431, 0.0), (2437, 0.0), (2443, 0.0), (2451, 0.0), (2454, 0.0), (2457, 0.0), (2462, 0.0), (2464, 0.0), (2471, 0.0), (2477, 0.0), (2482, 0.0), (2489, 0.0), (2492, 0.0), (2496, 0.0), (2497, 0.0), (2500, 0.0), (2509, 0.0), (2510, 0.0), (2511, 0.0), (2513, 0.0), (2514, 0.0), (2518, 0.0), (2523, 0.0), (2525, 0.0), (2528, 0.0), (2538, 0.0), (2548, 0.0), (2551, 0.0), (2554, 0.0), (2556, 0.0), (2559, 0.0), (2566, 0.0), (2570, 0.0), (2576, 0.0), (2589, 0.0), (2590, 0.0), (2591, 0.0), (2598, 0.0), (2601, 0.0), (2602, 0.0), (2605, 0.0), (2607, 0.0), (2612, 0.0), (2617, 0.0), (2618, 0.0), (2619, 0.0), (2653, 0.0), (2655, 0.0), (2668, 0.0), (2669, 0.0), (2672, 0.0), (2679, 0.0), (2681, 0.0), (2683, 0.0), (2684, 0.0), (2689, 0.0), (2690, 0.0), (2695, 0.0), (2698, 0.0), (2699, 0.0), (2707, 0.0), (2712, 0.0), (2715, 0.0), (2720, 0.0), (2729, 0.0), (2735, 0.0), (2737, 0.0), (2740, 0.0), (2741, 0.0), (2744, 0.0), (2754, 0.0), (2755, 0.0), (2761, 0.0), (2763, 0.0), (2768, 0.0), (2777, 0.0), (2781, 0.0), (2785, 0.0), (2791, 0.0), (2805, 0.0), (2810, 0.0), (2821, 0.0), (2823, 0.0), (2828, 0.0), (2834, 0.0), (2837, 0.0), (2841, 0.0), (2846, 0.0), (2851, 0.0), (2854, 0.0), (2867, 0.0), (2872, 0.0), (2873, 0.0), (2895, 0.0), (2900, 0.0), (2913, 0.0), (2918, 0.0), (2922, 0.0), (2923, 0.0), (2929, 0.0), (2930, 0.0), (2931, 0.0), (2934, 0.0), (2937, 0.0), (2938, 0.0), (2940, 0.0), (2944, 0.0), (2945, 0.0), (2955, 0.0), (2965, 0.0), (2967, 0.0), (2978, 0.0), (2979, 0.0), (2981, 0.0), (2987, 0.0), (2991, 0.0), (2994, 0.0), (2995, 0.0), (2999, 0.0), (3004, 0.0), (3008, 0.0), (3013, 0.0), (3015, 0.0), (3024, 0.0), (3029, 0.0), (3032, 0.0), (3035, 0.0), (3036, 0.0), (3037, 0.0), (3038, 0.0), (3044, 0.0), (3045, 0.0), (3049, 0.0), (3051, 0.0), (3056, 0.0), (3064, 0.0), (3067, 0.0), (3079, 0.0), (3089, 0.0), (3099, 0.0), (3107, 0.0), (3115, 0.0), (3117, 0.0), (3121, 0.0), (3129, 0.0), (3132, 0.0), (3135, 0.0), (3136, 0.0), (3139, 0.0), (3141, 0.0), (3142, 0.0), (3147, 0.0), (3150, 0.0), (3159, 0.0), (3163, 0.0), (3171, 0.0), (3174, 0.0), (3176, 0.0), (3179, 0.0), (3182, 0.0), (3187, 0.0), (3190, 0.0), (3193, 0.0), (3198, 0.0), (3203, 0.0), (3208, 0.0), (3210, 0.0), (3213, 0.0), (3214, 0.0), (3215, 0.0), (3216, 0.0), (3218, 0.0), (3228, 0.0), (3230, 0.0), (3233, 0.0), (3235, 0.0), (3237, 0.0), (3243, 0.0), (3248, 0.0), (3255, 0.0), (3256, 0.0), (3259, 0.0), (3263, 0.0), (3266, 0.0), (3268, 0.0), (3281, 0.0), (3290, 0.0), (3296, 0.0), (3300, 0.0), (3305, 0.0), (3312, 0.0), (3317, 0.0), (3318, 0.0), (3320, 0.0), (3324, 0.0), (3327, 0.0), (3335, 0.0), (3345, 0.0), (3346, 0.0), (3353, 0.0), (3355, 0.0), (3356, 0.0), (3360, 0.0), (3383, 0.0), (3389, 0.0), (3395, 0.0), (3402, 0.0), (3418, 0.0), (3442, 0.0), (3443, 0.0), (3444, 0.0), (3448, 0.0), (3456, 0.0), (3458, 0.0), (3460, 0.0), (3463, 0.0), (3471, 0.0), (3475, 0.0), (3478, 0.0), (3481, 0.0), (3483, 0.0), (3484, 0.0), (3490, 0.0), (3502, 0.0), (3503, 0.0), (3519, 0.0), (3523, 0.0), (3525, 0.0), (3531, 0.0), (3534, 0.0), (3536, 0.0), (3546, 0.0), (3555, 0.0), (3557, 0.0), (3563, 0.0), (3574, 0.0), (3575, 0.0), (3580, 0.0), (3597, 0.0), (3607, 0.0), (3612, 0.0), (3613, 0.0), (3620, 0.0), (3622, 0.0), (3625, 0.0), (3626, 0.0), (3646, 0.0), (3648, 0.0), (3660, 0.0), (3663, 0.0), (3664, 0.0), (3670, 0.0), (3677, 0.0), (3682, 0.0), (3683, 0.0), (3684, 0.0), (3697, 0.0), (3702, 0.0), (3705, 0.0), (3707, 0.0), (3715, 0.0), (3720, 0.0), (3721, 0.0), (3735, 0.0), (3736, 0.0), (3737, 0.0), (3742, 0.0), (3751, 0.0), (3755, 0.0), (3756, 0.0), (3760, 0.0), (3765, 0.0), (3766, 0.0), (3768, 0.0), (3771, 0.0), (3775, 0.0), (3777, 0.0), (3784, 0.0), (3786, 0.0), (3787, 0.0), (3790, 0.0), (3800, 0.0), (3806, 0.0), (3807, 0.0), (3808, 0.0), (3809, 0.0), (3816, 0.0), (3820, 0.0), (3824, 0.0), (3825, 0.0), (3827, 0.0), (3830, 0.0), (3841, 0.0), (3842, 0.0), (3843, 0.0), (3845, 0.0), (3846, 0.0), (3848, 0.0), (3849, 0.0), (3860, 0.0), (3861, 0.0), (3871, 0.0), (3878, 0.0), (3882, 0.0), (3883, 0.0), (3885, 0.0), (3888, 0.0), (3890, 0.0), (3893, 0.0), (3897, 0.0), (3904, 0.0), (3909, 0.0), (3912, 0.0), (3915, 0.0), (3916, 0.0), (3917, 0.0), (3924, 0.0), (3925, 0.0), (3928, 0.0), (3929, 0.0), (3933, 0.0), (3938, 0.0), (3943, 0.0), (3947, 0.0), (3949, 0.0), (3951, 0.0), (3959, 0.0), (3960, 0.0), (3963, 0.0), (3964, 0.0), (3976, 0.0), (3979, 0.0), (3984, 0.0), (3987, 0.0), (3988, 0.0), (3991, 0.0), (3992, 0.0), (3993, 0.0), (3994, 0.0), (3997, 0.0), (4001, 0.0), (4002, 0.0), (4006, 0.0), (4007, 0.0), (4009, 0.0), (4012, 0.0), (4014, 0.0), (4020, 0.0), (4025, 0.0), (4029, 0.0), (4034, 0.0), (4035, 0.0), (4036, 0.0), (4039, 0.0), (4040, 0.0), (4042, 0.0), (4043, 0.0), (4046, 0.0), (4049, 0.0), (4050, 0.0), (4059, 0.0), (4060, 0.0), (4061, 0.0), (4068, 0.0), (4072, 0.0), (4073, 0.0), (4075, 0.0), (4078, 0.0), (4093, 0.0), (4096, 0.0), (4102, 0.0), (4106, 0.0), (4110, 0.0), (4113, 0.0), (4116, 0.0), (4117, 0.0), (4118, 0.0), (4120, 0.0), (4123, 0.0), (4125, 0.0), (4128, 0.0), (4131, 0.0), (4134, 0.0), (4138, 0.0), (4140, 0.0), (4141, 0.0), (4147, 0.0), (4148, 0.0), (4149, 0.0), (4155, 0.0), (4156, 0.0), (4176, 0.0), (4179, 0.0), (4180, 0.0), (4181, 0.0), (4187, 0.0), (4188, 0.0), (4191, 0.0), (4193, 0.0), (4196, 0.0), (4200, 0.0), (4202, 0.0), (4210, 0.0), (4213, 0.0), (4215, 0.0), (4219, 0.0), (4227, 0.0), (4229, 0.0), (4235, 0.0), (4237, 0.0), (4240, 0.0), (4241, 0.0), (4242, 0.0), (4250, 0.0), (4254, 0.0), (4259, 0.0), (4261, 0.0), (4262, 0.0), (4267, 0.0), (4268, 0.0), (4269, 0.0), (4274, 0.0), (4276, 0.0), (4278, 0.0), (4293, 0.0), (4298, 0.0), (4302, 0.0), (4305, 0.0), (4306, 0.0), (4307, 0.0), (4314, 0.0), (4315, 0.0), (4316, 0.0), (4317, 0.0), (4318, 0.0), (4319, 0.0), (4321, 0.0), (4322, 0.0), (4323, 0.0), (4327, 0.0), (4341, 0.0), (4344, 0.0), (4350, 0.0), (4352, 0.0), (4361, 0.0), (4363, 0.0), (4366, 0.0), (4374, 0.0), (4381, 0.0), (4383, 0.0), (4385, 0.0), (4387, 0.0), (4392, 0.0), (4395, 0.0), (4396, 0.0), (4400, 0.0), (4401, 0.0), (4405, 0.0), (4409, 0.0), (4413, 0.0), (4414, 0.0), (4419, 0.0), (4424, 0.0), (4431, 0.0), (4433, 0.0), (4435, 0.0), (4446, 0.0), (4450, 0.0), (4458, 0.0), (4463, 0.0), (4464, 0.0), (4466, 0.0), (4468, 0.0), (4471, 0.0), (4479, 0.0), (4480, 0.0), (4489, 0.0), (4490, 0.0), (4491, 0.0), (4495, 0.0), (4498, 0.0), (4503, 0.0), (4504, 0.0), (4507, 0.0), (4508, 0.0), (4513, 0.0), (4516, 0.0), (4521, 0.0), (4524, 0.0), (4526, 0.0), (4530, 0.0), (4536, 0.0), (4537, 0.0), (4538, 0.0), (4544, 0.0), (4545, 0.0), (4546, 0.0), (4547, 0.0), (4550, 0.0), (4553, 0.0), (4557, 0.0), (4558, 0.0), (4560, 0.0), (4561, 0.0), (4562, 0.0), (4563, 0.0), (4566, 0.0), (4568, 0.0), (4570, 0.0), (4571, 0.0), (4575, 0.0), (4578, 0.0), (4579, 0.0), (4581, 0.0), (4583, 0.0), (4585, 0.0), (4586, 0.0), (4593, 0.0), (4595, 0.0), (4596, 0.0), (4597, 0.0), (4600, 0.0), (4604, 0.0), (4606, 0.0), (4609, 0.0), (4611, 0.0), (4616, 0.0), (4617, 0.0), (4622, 0.0), (4623, 0.0), (4633, 0.0), (4640, 0.0), (4644, 0.0), (4652, 0.0), (4654, 0.0), (4657, 0.0), (4660, 0.0), (4662, 0.0), (4665, 0.0), (4666, 0.0), (4668, 0.0), (4669, 0.0), (4671, 0.0), (4672, 0.0), (4673, 0.0), (4674, 0.0), (4679, 0.0), (4681, 0.0), (4682, 0.0), (4684, 0.0), (4685, 0.0), (4689, 0.0), (4697, 0.0), (4698, 0.0), (4706, 0.0), (4709, 0.0), (4710, 0.0), (4711, 0.0), (4714, 0.0), (4716, 0.0), (4725, 0.0), (4728, 0.0), (4729, 0.0), (4731, 0.0), (4735, 0.0), (4736, 0.0), (4737, 0.0), (4740, 0.0), (4741, 0.0), (4743, 0.0), (4745, 0.0), (4755, 0.0), (4757, 0.0), (4759, 0.0), (4761, 0.0), (4763, 0.0), (4765, 0.0), (4766, 0.0), (4769, 0.0), (4771, 0.0), (4773, 0.0), (4779, 0.0), (4781, 0.0), (4786, 0.0), (4788, 0.0), (4799, 0.0), (4801, 0.0)]\n"
          ],
          "name": "stdout"
        }
      ]
    },
    {
      "cell_type": "code",
      "metadata": {
        "id": "8D_dDv8M5cqu",
        "colab_type": "code",
        "colab": {
          "base_uri": "https://localhost:8080/",
          "height": 119
        },
        "outputId": "26126bf3-8744-4117-a0a8-fd0b694c5d18"
      },
      "source": [
        "#Create a loop to print the first 5 entries from the sorted similar movies list\n",
        "\n",
        "i=0\n",
        "print(\"Top 5 similar movies to \" + movie_user_likes + \" are:\")\n",
        "for element in sorted_similar_movies:\n",
        "    print(get_title_from_index(element[0]) )\n",
        "    i=i+1\n",
        "    if i>=5:\n",
        "        break\n"
      ],
      "execution_count": 28,
      "outputs": [
        {
          "output_type": "stream",
          "text": [
            "Top 5 similar movies to The Prestige are:\n",
            "The Dark Knight Rises\n",
            "The Dark Knight\n",
            "Batman Begins\n",
            "Fabled\n",
            "Jaws: The Revenge\n"
          ],
          "name": "stdout"
        }
      ]
    },
    {
      "cell_type": "code",
      "metadata": {
        "id": "pOHFJNLD5cz5",
        "colab_type": "code",
        "colab": {
          "base_uri": "https://localhost:8080/",
          "height": 119
        },
        "outputId": "d2f20590-5525-41ff-947a-9d60879d1a92"
      },
      "source": [
        "#Create a loop to print the first 5 entries from the sorted similar movies list \n",
        "# and similarity scores\n",
        "\n",
        "i=0\n",
        "print(\"Top 5 similar movies to \"+movie_user_likes+\" are:\")\n",
        "for i in range( len(sorted_similar_movies)):\n",
        "    print('Movie title:',get_title_from_index(sorted_similar_movies[i][0]), ', Similarity Score: ', sorted_similar_movies[i][1] )\n",
        "    i=i+1\n",
        "    if i>=5:\n",
        "        break\n"
      ],
      "execution_count": 29,
      "outputs": [
        {
          "output_type": "stream",
          "text": [
            "Top 5 similar movies to The Prestige are:\n",
            "Movie title: The Dark Knight Rises , Similarity Score:  0.37630890450319093\n",
            "Movie title: The Dark Knight , Similarity Score:  0.37630890450319093\n",
            "Movie title: Batman Begins , Similarity Score:  0.3344968040028364\n",
            "Movie title: Fabled , Similarity Score:  0.28603877677367767\n",
            "Movie title: Jaws: The Revenge , Similarity Score:  0.25584085962673253\n"
          ],
          "name": "stdout"
        }
      ]
    },
    {
      "cell_type": "code",
      "metadata": {
        "id": "Gw9HckFe5cok",
        "colab_type": "code",
        "colab": {}
      },
      "source": [
        ""
      ],
      "execution_count": 0,
      "outputs": []
    }
  ]
}